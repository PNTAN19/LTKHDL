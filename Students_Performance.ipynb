{
 "cells": [
  {
   "cell_type": "markdown",
   "id": "a5126d71",
   "metadata": {},
   "source": [
    "# <center>Đồ Án Cuối Kì</center>"
   ]
  },
  {
   "cell_type": "markdown",
   "id": "d7396885",
   "metadata": {},
   "source": [
    "## Mục lục\n",
    "* [Danh sách thành viên](#c1)\n",
    "* [Cách chạy Project](#c2)\n",
    "* [Nội dung](#c3)\n",
    "    * [Thu thập dữ liệu](#c31)\n",
    "        * [Chủ đề dữ liệu của bạn là gì? Nguồn lấy từ đâu?](#c311)\n",
    "        * [Bạn có được quyền sử dụng dữ liệu từ tác giả hay không?](#c312)\n",
    "        * [Tác giả thu thập dữ liệu như thế nào?](#c313)\n",
    "    * [Khám phá dữ liệu](#c32)\n",
    "        * [Dữ liệu có bao nhiêu dòng và bao nhiêu cột?](#c321)\n",
    "        * [Mỗi dòng có ý nghĩa gì? Có vấn đề các dòng có ý nghĩa khác nhau không?](#c322)\n",
    "        * [Dữ liệu có các dòng bị lặp không?](#c323)\n",
    "        * [Mỗi cột có ý nghĩa gì?](#c324)\n",
    "        * [Mỗi cột hiện đang có kiểu dữ liệu gì? Có cột nào có kiểu dữ liệu chưa phù hợp để có thể xử lý tiếp không?](#c325)\n",
    "        * [Với mỗi cột có kiểu dữ liệu dạng số (numeric), các giá trị được phân bố như thế nào?](#c325)\n",
    "        * [Với mỗi cột có kiểu dữ liệu dạng phân loại (categorical), các giá trị được phân bố như thế nào?](#c326)\n",
    "    * [Đưa ra câu hỏi có ý nghĩa cần trả lời](#c33)\n",
    "* [Nguồn tham khảo](#c4)"
   ]
  },
  {
   "cell_type": "markdown",
   "id": "a2cf6f65",
   "metadata": {},
   "source": [
    "## Danh sách thành viên <a class=\"anchor\" id=\"c1\"></a>\n",
    "\n",
    "STT&emsp;&emsp;&emsp;&emsp;&emsp;&emsp;Thông tin sinh viên&emsp;&emsp;&emsp;&emsp;&emsp;&emsp;&emsp;&emsp;&emsp;&ensp;Github username\n",
    "<br>\n",
    "1&emsp;&emsp;&emsp;&emsp;&emsp;&emsp;&emsp;&nbsp;Phạm Ngọc Thiên Ân - 19127094&emsp;&emsp;&emsp;&ensp;PNTAN19\n",
    "<br>\n",
    "2&emsp;&emsp;&emsp;&emsp;&emsp;&emsp;&emsp;&nbsp;Phan Vĩ Giai - 19127639&emsp;&emsp;&emsp;&emsp;&emsp;&emsp;&emsp;&nbsp;owfdataboy"
   ]
  },
  {
   "cell_type": "markdown",
   "id": "f887cc8c",
   "metadata": {},
   "source": [
    "## CÁCH CHẠY PROJECT <a class=\"anchor\" id=\"c2\"></a>\n",
    "**Chọn Kernel -> Restart & Run All**"
   ]
  },
  {
   "cell_type": "markdown",
   "id": "d6e94417",
   "metadata": {},
   "source": [
    "## Nội dung <a class=\"anchor\" id=\"c3\"></a>"
   ]
  },
  {
   "cell_type": "markdown",
   "id": "050cc725",
   "metadata": {},
   "source": [
    "### Import các thư viện cần thiết"
   ]
  },
  {
   "cell_type": "code",
   "execution_count": 2,
   "id": "73518b28",
   "metadata": {},
   "outputs": [],
   "source": [
    "import numpy as np\n",
    "import pandas as pd\n",
    "import seaborn as sns\n",
    "import matplotlib.pyplot as plt"
   ]
  },
  {
   "cell_type": "markdown",
   "id": "2759d190",
   "metadata": {},
   "source": [
    "### Thu thập dữ liệu <a class=\"anchor\" id=\"c31\"></a>"
   ]
  },
  {
   "cell_type": "code",
   "execution_count": 3,
   "id": "e7ad63b4",
   "metadata": {},
   "outputs": [],
   "source": [
    "df = pd.read_csv(\"StudentsPerformance.csv\")"
   ]
  },
  {
   "cell_type": "markdown",
   "id": "0579e576",
   "metadata": {},
   "source": [
    "### Chủ đề dữ liệu của bạn là gì? Nguồn lấy từ đâu? <a class=\"anchor\" id=\"c311\"></a>"
   ]
  },
  {
   "cell_type": "markdown",
   "id": "fe17780e",
   "metadata": {},
   "source": [
    "### Bạn có được quyền sử dụng dữ liệu từ tác giả hay không? <a class=\"anchor\" id=\"c312\"></a>"
   ]
  },
  {
   "cell_type": "markdown",
   "id": "29e08ceb",
   "metadata": {},
   "source": [
    "### Tác giả thu thập dữ liệu như thế nào? <a class=\"anchor\" id=\"c313\"></a>"
   ]
  },
  {
   "cell_type": "markdown",
   "id": "e8293eb9",
   "metadata": {},
   "source": [
    "### Khám phá dữ liệu <a class=\"anchor\" id=\"c32\"></a>"
   ]
  },
  {
   "cell_type": "markdown",
   "id": "a9b76752",
   "metadata": {},
   "source": [
    "### Dữ liệu có bao nhiêu dòng và bao nhiêu cột? <a class=\"anchor\" id=\"c321\"></a>"
   ]
  },
  {
   "cell_type": "markdown",
   "id": "81aaf54a",
   "metadata": {},
   "source": [
    "### Mỗi dòng có ý nghĩa gì? Có vấn đề các dòng có ý nghĩa khác nhau không? <a class=\"anchor\" id=\"c322\"></a>"
   ]
  },
  {
   "cell_type": "markdown",
   "id": "6c6ef03f",
   "metadata": {},
   "source": [
    "### Dữ liệu có các dòng bị lặp không? <a class=\"anchor\" id=\"c323\"></a>"
   ]
  },
  {
   "cell_type": "markdown",
   "id": "2cf1d518",
   "metadata": {},
   "source": [
    "### Mỗi cột có ý nghĩa gì? <a class=\"anchor\" id=\"c324\"></a>"
   ]
  },
  {
   "cell_type": "markdown",
   "id": "f62c8d43",
   "metadata": {},
   "source": [
    "### Mỗi cột hiện đang có kiểu dữ liệu gì? Có cột nào có kiểu dữ liệu chưa phù hợp để có thể xử lý tiếp không? <a class=\"anchor\" id=\"c325\"></a>"
   ]
  },
  {
   "cell_type": "markdown",
   "id": "776093de",
   "metadata": {},
   "source": [
    "### Với mỗi cột có kiểu dữ liệu dạng số (numeric), các giá trị được phân bố như thế nào?\n",
    "<a class=\"anchor\" id=\"c326\"></a>"
   ]
  },
  {
   "cell_type": "markdown",
   "id": "9c2bc605",
   "metadata": {},
   "source": [
    "### Với mỗi cột có kiểu dữ liệu dạng phân loại (categorical), các giá trị được phân bố như thế nào?\n",
    "<a class=\"anchor\" id=\"c327\"></a>"
   ]
  },
  {
   "cell_type": "markdown",
   "id": "16e51d30",
   "metadata": {},
   "source": [
    "### Đưa ra câu hỏi có ý nghĩa cần trả lời <a class=\"anchor\" id=\"c33\"></a>"
   ]
  },
  {
   "cell_type": "markdown",
   "id": "c3f6f7ee",
   "metadata": {},
   "source": [
    "## Nguồn tham khảo <a class=\"anchor\" id=\"c4\"></a>"
   ]
  }
 ],
 "metadata": {
  "kernelspec": {
   "display_name": "Python 3 (ipykernel)",
   "language": "python",
   "name": "python3"
  },
  "language_info": {
   "codemirror_mode": {
    "name": "ipython",
    "version": 3
   },
   "file_extension": ".py",
   "mimetype": "text/x-python",
   "name": "python",
   "nbconvert_exporter": "python",
   "pygments_lexer": "ipython3",
   "version": "3.8.8"
  }
 },
 "nbformat": 4,
 "nbformat_minor": 5
}

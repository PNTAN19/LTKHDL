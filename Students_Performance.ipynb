{
 "cells": [
  {
   "cell_type": "markdown",
   "id": "d6e94417",
   "metadata": {},
   "source": [
    "# 1. Collecting data"
   ]
  },
  {
   "cell_type": "markdown",
   "id": "0579e576",
   "metadata": {},
   "source": [
    "### What subject is your data about? What is the source of your data?"
   ]
  },
  {
   "cell_type": "markdown",
   "id": "34d212fe",
   "metadata": {},
   "source": [
    "- Dữ liệu sử dụng trong đồ án này là về điểm số (Toán, viết, đọc) của 1000 học sinh Trung học Phổ thông ở Mỹ.\n",
    "- Dữ liệu được lấy trên Kaggle.com ở <a href=\"https://www.kaggle.com/spscientist/students-performance-in-exams\">link</a>"
   ]
  },
  {
   "cell_type": "markdown",
   "id": "21518087",
   "metadata": {},
   "source": [
    "### Do authors of this data allow you to use like this? You can check the data license"
   ]
  },
  {
   "cell_type": "markdown",
   "id": "d971eaa9",
   "metadata": {},
   "source": [
    "- License trong phần này là unknown, nghĩa là chưa có bản quyền. Việc chúng ta tải về và sử dụng là hợp pháp.\n",
    "- Hơn nữa, trong đồ án này, dataset này hoàn toàn được sử dụng cho mục đích học tập nên sẽ không vi phạm bản quyền."
   ]
  },
  {
   "cell_type": "markdown",
   "id": "e2c8ba6a",
   "metadata": {},
   "source": [
    "### How did authors collect data?"
   ]
  },
  {
   "cell_type": "markdown",
   "id": "b4910acf",
   "metadata": {},
   "source": [
    "Tác giả, Jakki Seshapanpu, không nói rõ là thu thập dữ liệu từ các trường khác nhau trong các bang khác nhau ở nước Mỹ, mà chỉ nói thu thập từ các học sinh THPT và các thông đinh về sinh viên được bảo mật.\n",
    "\n",
    "Các thông tin về học sinh mà tác giả thu thâp gồm: giới tính, dân tộc (tác giả cũng giấu luôn cả tên dân tộc), trình độ học vấn của cha mẹ, phần ăn buổi trưa, đã hoàn thành khóa học luyện thi hay chưa, và số điểm toán, đọc, viết."
   ]
  },
  {
   "cell_type": "markdown",
   "id": "e8293eb9",
   "metadata": {},
   "source": [
    "# 2. Exploring data"
   ]
  },
  {
   "cell_type": "markdown",
   "id": "f70ae5f1",
   "metadata": {},
   "source": [
    "### Import các thư viện cần thiết"
   ]
  },
  {
   "cell_type": "code",
   "execution_count": 1,
   "id": "4b768c8a",
   "metadata": {},
   "outputs": [],
   "source": [
    "import numpy as np\n",
    "import pandas as pd\n",
    "import seaborn as sns\n",
    "import matplotlib.pyplot as plt"
   ]
  },
  {
   "cell_type": "markdown",
   "id": "43354d10",
   "metadata": {},
   "source": [
    "### Đọc dữ liệu từ csv vào dataframe"
   ]
  },
  {
   "cell_type": "code",
   "execution_count": 2,
   "id": "e7ad63b4",
   "metadata": {},
   "outputs": [],
   "source": [
    "df = pd.read_csv(\"StudentsPerformance.csv\")"
   ]
  },
  {
   "cell_type": "code",
   "execution_count": 3,
   "id": "105305ab",
   "metadata": {},
   "outputs": [
    {
     "data": {
      "text/html": [
       "<div>\n",
       "<style scoped>\n",
       "    .dataframe tbody tr th:only-of-type {\n",
       "        vertical-align: middle;\n",
       "    }\n",
       "\n",
       "    .dataframe tbody tr th {\n",
       "        vertical-align: top;\n",
       "    }\n",
       "\n",
       "    .dataframe thead th {\n",
       "        text-align: right;\n",
       "    }\n",
       "</style>\n",
       "<table border=\"1\" class=\"dataframe\">\n",
       "  <thead>\n",
       "    <tr style=\"text-align: right;\">\n",
       "      <th></th>\n",
       "      <th>gender</th>\n",
       "      <th>race/ethnicity</th>\n",
       "      <th>parental level of education</th>\n",
       "      <th>lunch</th>\n",
       "      <th>test preparation course</th>\n",
       "      <th>math score</th>\n",
       "      <th>reading score</th>\n",
       "      <th>writing score</th>\n",
       "    </tr>\n",
       "  </thead>\n",
       "  <tbody>\n",
       "    <tr>\n",
       "      <th>0</th>\n",
       "      <td>female</td>\n",
       "      <td>group B</td>\n",
       "      <td>bachelor's degree</td>\n",
       "      <td>standard</td>\n",
       "      <td>none</td>\n",
       "      <td>72</td>\n",
       "      <td>72</td>\n",
       "      <td>74</td>\n",
       "    </tr>\n",
       "    <tr>\n",
       "      <th>1</th>\n",
       "      <td>female</td>\n",
       "      <td>group C</td>\n",
       "      <td>some college</td>\n",
       "      <td>standard</td>\n",
       "      <td>completed</td>\n",
       "      <td>69</td>\n",
       "      <td>90</td>\n",
       "      <td>88</td>\n",
       "    </tr>\n",
       "    <tr>\n",
       "      <th>2</th>\n",
       "      <td>female</td>\n",
       "      <td>group B</td>\n",
       "      <td>master's degree</td>\n",
       "      <td>standard</td>\n",
       "      <td>none</td>\n",
       "      <td>90</td>\n",
       "      <td>95</td>\n",
       "      <td>93</td>\n",
       "    </tr>\n",
       "    <tr>\n",
       "      <th>3</th>\n",
       "      <td>male</td>\n",
       "      <td>group A</td>\n",
       "      <td>associate's degree</td>\n",
       "      <td>free/reduced</td>\n",
       "      <td>none</td>\n",
       "      <td>47</td>\n",
       "      <td>57</td>\n",
       "      <td>44</td>\n",
       "    </tr>\n",
       "    <tr>\n",
       "      <th>4</th>\n",
       "      <td>male</td>\n",
       "      <td>group C</td>\n",
       "      <td>some college</td>\n",
       "      <td>standard</td>\n",
       "      <td>none</td>\n",
       "      <td>76</td>\n",
       "      <td>78</td>\n",
       "      <td>75</td>\n",
       "    </tr>\n",
       "  </tbody>\n",
       "</table>\n",
       "</div>"
      ],
      "text/plain": [
       "   gender race/ethnicity parental level of education         lunch  \\\n",
       "0  female        group B           bachelor's degree      standard   \n",
       "1  female        group C                some college      standard   \n",
       "2  female        group B             master's degree      standard   \n",
       "3    male        group A          associate's degree  free/reduced   \n",
       "4    male        group C                some college      standard   \n",
       "\n",
       "  test preparation course  math score  reading score  writing score  \n",
       "0                    none          72             72             74  \n",
       "1               completed          69             90             88  \n",
       "2                    none          90             95             93  \n",
       "3                    none          47             57             44  \n",
       "4                    none          76             78             75  "
      ]
     },
     "execution_count": 3,
     "metadata": {},
     "output_type": "execute_result"
    }
   ],
   "source": [
    "df.head()"
   ]
  },
  {
   "cell_type": "markdown",
   "id": "06411232",
   "metadata": {},
   "source": [
    "### Dữ liệu gồm bao nhiêu dòng và bao nhiêu cột?"
   ]
  },
  {
   "cell_type": "code",
   "execution_count": 4,
   "id": "b4034117",
   "metadata": {},
   "outputs": [
    {
     "data": {
      "text/plain": [
       "(1000, 8)"
      ]
     },
     "execution_count": 4,
     "metadata": {},
     "output_type": "execute_result"
    }
   ],
   "source": [
    "df.shape"
   ]
  },
  {
   "cell_type": "markdown",
   "id": "2b8759ca",
   "metadata": {},
   "source": [
    "Dữ liệu gồm 1000 dòng (tương đương với 1000 học sinh) và 8 cột (8 trường dữ liệu)"
   ]
  },
  {
   "cell_type": "markdown",
   "id": "d7408a47",
   "metadata": {},
   "source": [
    "### Mỗi dòng trong tập dữ liệu có ý nghĩa là gì? Có các dòng nào có ý nghĩa khác các dòng còn lại không?"
   ]
  },
  {
   "cell_type": "markdown",
   "id": "6c5a5af8",
   "metadata": {},
   "source": [
    "Theo quan sát sơ bộ thì mỗi dòng dữ liệu thể hiện thông tin của một học sinh và có vẻ như không có dòng nào mang ý nghĩa khác các dòng còn lại."
   ]
  },
  {
   "cell_type": "markdown",
   "id": "3e4b08da",
   "metadata": {},
   "source": [
    "### Dữ liệu có dòng nào bị lập không?"
   ]
  },
  {
   "cell_type": "code",
   "execution_count": 8,
   "id": "bd048e96",
   "metadata": {},
   "outputs": [
    {
     "data": {
      "text/plain": [
       "False"
      ]
     },
     "execution_count": 8,
     "metadata": {},
     "output_type": "execute_result"
    }
   ],
   "source": [
    "False if df.duplicated().sum() == 0 else True"
   ]
  },
  {
   "cell_type": "markdown",
   "id": "f22cafa3",
   "metadata": {},
   "source": [
    "Dữ liệu không có các dòng trùng nhau."
   ]
  },
  {
   "cell_type": "markdown",
   "id": "4f4a7383",
   "metadata": {},
   "source": [
    "### Mỗi cột có ý nghĩa gì?"
   ]
  },
  {
   "cell_type": "markdown",
   "id": "71b957f1",
   "metadata": {},
   "source": [
    "Có tất cả 8 trường dữ liệu:\n",
    "- **gender:** Giới tính của học sinh.\n",
    "- **race/ethnicity:** Học sinh thuộc chủng tộc/dân tộc nào.\n",
    "- **parental level of education:** Trình độ học vấn của cha mẹ học sinh đó.\n",
    "- **lunch:** Tiêu chuẩn suất ăn trưa của học sinh.\n",
    "- **test preparation course:** Học sinh đã hoàn thành khóa học ôn tập hay chưa?\n",
    "- **math score:** Điểm toán.\n",
    "- **reading score:** Điểm đọc.\n",
    "- **writing score:** Điểm viết."
   ]
  },
  {
   "cell_type": "markdown",
   "id": "4fc2b264",
   "metadata": {},
   "source": [
    "### Mỗi cột hiện đang có kiểu dữ liệu gì? Có cột nào có kiểu dữ liệu chưa phù hợp để có thể xử lý tiếp không?"
   ]
  },
  {
   "cell_type": "code",
   "execution_count": 9,
   "id": "6445efd5",
   "metadata": {},
   "outputs": [
    {
     "name": "stdout",
     "output_type": "stream",
     "text": [
      "<class 'pandas.core.frame.DataFrame'>\n",
      "RangeIndex: 1000 entries, 0 to 999\n",
      "Data columns (total 8 columns):\n",
      " #   Column                       Non-Null Count  Dtype \n",
      "---  ------                       --------------  ----- \n",
      " 0   gender                       1000 non-null   object\n",
      " 1   race/ethnicity               1000 non-null   object\n",
      " 2   parental level of education  1000 non-null   object\n",
      " 3   lunch                        1000 non-null   object\n",
      " 4   test preparation course      1000 non-null   object\n",
      " 5   math score                   1000 non-null   int64 \n",
      " 6   reading score                1000 non-null   int64 \n",
      " 7   writing score                1000 non-null   int64 \n",
      "dtypes: int64(3), object(5)\n",
      "memory usage: 62.6+ KB\n"
     ]
    }
   ],
   "source": [
    "df.info()"
   ]
  },
  {
   "cell_type": "markdown",
   "id": "6688df57",
   "metadata": {},
   "source": [
    "Có 4 cột có kiểu dữ liệu `object` là \"gender\", \"race/ethnicity\", \"parental level of education\" và \"lunch\". Trong Pandas, kiểu dữ liệu `object` thường sẽ là kiểu dữ liệu `str`, nhưng ngoài ra, kiểu dữ liệu `object` có thể chứa một đối tượng bất kỳ trong Python (vì thật ra ở bên dưới kiểu dữ liệu `object` chứa địa chỉ). 3 cột điểm có kiểu dữ liệu mong muốn, đó là `int64`."
   ]
  },
  {
   "cell_type": "markdown",
   "id": "37a14fd3",
   "metadata": {},
   "source": [
    "Kiểu dữ liệu thật lưu bên dưới của 4 cột có kiểu dữ liệu `object` trên là:"
   ]
  },
  {
   "cell_type": "code",
   "execution_count": 14,
   "id": "faacac62",
   "metadata": {},
   "outputs": [
    {
     "data": {
      "text/plain": [
       "str"
      ]
     },
     "execution_count": 14,
     "metadata": {},
     "output_type": "execute_result"
    }
   ],
   "source": [
    "type(df.loc[0, 'gender'])"
   ]
  },
  {
   "cell_type": "code",
   "execution_count": 15,
   "id": "831e9a9d",
   "metadata": {},
   "outputs": [
    {
     "data": {
      "text/plain": [
       "str"
      ]
     },
     "execution_count": 15,
     "metadata": {},
     "output_type": "execute_result"
    }
   ],
   "source": [
    "type(df.loc[0, 'race/ethnicity'])"
   ]
  },
  {
   "cell_type": "code",
   "execution_count": 16,
   "id": "156f4a8d",
   "metadata": {},
   "outputs": [
    {
     "data": {
      "text/plain": [
       "str"
      ]
     },
     "execution_count": 16,
     "metadata": {},
     "output_type": "execute_result"
    }
   ],
   "source": [
    "type(df.loc[0, 'parental level of education'])"
   ]
  },
  {
   "cell_type": "code",
   "execution_count": 17,
   "id": "ef162819",
   "metadata": {},
   "outputs": [
    {
     "data": {
      "text/plain": [
       "str"
      ]
     },
     "execution_count": 17,
     "metadata": {},
     "output_type": "execute_result"
    }
   ],
   "source": [
    "type(df.loc[0, 'lunch'])"
   ]
  },
  {
   "cell_type": "markdown",
   "id": "75d32a7d",
   "metadata": {},
   "source": [
    "Như vậy, nằm trong dự đoán, 4 cột này đều có kiểu dữ liệu thật là `str`. Các kiểu dữ liệu của mỗi cột đã hợp lý và không cần phải tiền xử lý nữa, việc còn lại của chúng ta là bắt tay vào việc nghiên cứu phân phối của từng trường dữ liệu một."
   ]
  },
  {
   "cell_type": "markdown",
   "id": "daa14a76",
   "metadata": {},
   "source": [
    "### Khám phá dữ liệu"
   ]
  },
  {
   "cell_type": "markdown",
   "id": "2f99f5cc",
   "metadata": {},
   "source": [
    "#### Với mỗi cột dữ liệu dạng numeric thì các giá trị được phân bố như thế nào?"
   ]
  },
  {
   "cell_type": "markdown",
   "id": "3dc68acd",
   "metadata": {},
   "source": [
    "Theo trực quan ở trên, thì ta chỉ có 3 cột điểm là thuộc dạng numeric, còn lại đều là dạng catogerical. Phân bố của 3 cột điểm sẽ như thế nào?"
   ]
  },
  {
   "cell_type": "code",
   "execution_count": 18,
   "id": "451866f4",
   "metadata": {},
   "outputs": [
    {
     "data": {
      "text/html": [
       "<div>\n",
       "<style scoped>\n",
       "    .dataframe tbody tr th:only-of-type {\n",
       "        vertical-align: middle;\n",
       "    }\n",
       "\n",
       "    .dataframe tbody tr th {\n",
       "        vertical-align: top;\n",
       "    }\n",
       "\n",
       "    .dataframe thead th {\n",
       "        text-align: right;\n",
       "    }\n",
       "</style>\n",
       "<table border=\"1\" class=\"dataframe\">\n",
       "  <thead>\n",
       "    <tr style=\"text-align: right;\">\n",
       "      <th></th>\n",
       "      <th>count</th>\n",
       "      <th>mean</th>\n",
       "      <th>std</th>\n",
       "      <th>min</th>\n",
       "      <th>25%</th>\n",
       "      <th>50%</th>\n",
       "      <th>75%</th>\n",
       "      <th>max</th>\n",
       "    </tr>\n",
       "  </thead>\n",
       "  <tbody>\n",
       "    <tr>\n",
       "      <th>math score</th>\n",
       "      <td>1000.0</td>\n",
       "      <td>66.089</td>\n",
       "      <td>15.163080</td>\n",
       "      <td>0.0</td>\n",
       "      <td>57.00</td>\n",
       "      <td>66.0</td>\n",
       "      <td>77.0</td>\n",
       "      <td>100.0</td>\n",
       "    </tr>\n",
       "    <tr>\n",
       "      <th>reading score</th>\n",
       "      <td>1000.0</td>\n",
       "      <td>69.169</td>\n",
       "      <td>14.600192</td>\n",
       "      <td>17.0</td>\n",
       "      <td>59.00</td>\n",
       "      <td>70.0</td>\n",
       "      <td>79.0</td>\n",
       "      <td>100.0</td>\n",
       "    </tr>\n",
       "    <tr>\n",
       "      <th>writing score</th>\n",
       "      <td>1000.0</td>\n",
       "      <td>68.054</td>\n",
       "      <td>15.195657</td>\n",
       "      <td>10.0</td>\n",
       "      <td>57.75</td>\n",
       "      <td>69.0</td>\n",
       "      <td>79.0</td>\n",
       "      <td>100.0</td>\n",
       "    </tr>\n",
       "  </tbody>\n",
       "</table>\n",
       "</div>"
      ],
      "text/plain": [
       "                count    mean        std   min    25%   50%   75%    max\n",
       "math score     1000.0  66.089  15.163080   0.0  57.00  66.0  77.0  100.0\n",
       "reading score  1000.0  69.169  14.600192  17.0  59.00  70.0  79.0  100.0\n",
       "writing score  1000.0  68.054  15.195657  10.0  57.75  69.0  79.0  100.0"
      ]
     },
     "execution_count": 18,
     "metadata": {},
     "output_type": "execute_result"
    }
   ],
   "source": [
    "df.describe().T"
   ]
  },
  {
   "cell_type": "markdown",
   "id": "fc2a74ec",
   "metadata": {},
   "source": [
    "Cột min của môn Toán là thấp nhất, trong khi đó thì môn đọc có giá trị min cao nhất (có thể vì môn này là dễ nhất). Còn các giá trị khác không có gì bất thường."
   ]
  },
  {
   "cell_type": "markdown",
   "id": "2b4f404b",
   "metadata": {},
   "source": [
    "Trong các cột dữ liệu dạng numeric, liệu có giá trị nào bị thiếu hay không?"
   ]
  },
  {
   "cell_type": "code",
   "execution_count": 21,
   "id": "0286779f",
   "metadata": {},
   "outputs": [
    {
     "data": {
      "text/html": [
       "<div>\n",
       "<style scoped>\n",
       "    .dataframe tbody tr th:only-of-type {\n",
       "        vertical-align: middle;\n",
       "    }\n",
       "\n",
       "    .dataframe tbody tr th {\n",
       "        vertical-align: top;\n",
       "    }\n",
       "\n",
       "    .dataframe thead th {\n",
       "        text-align: right;\n",
       "    }\n",
       "</style>\n",
       "<table border=\"1\" class=\"dataframe\">\n",
       "  <thead>\n",
       "    <tr style=\"text-align: right;\">\n",
       "      <th></th>\n",
       "      <th>math score</th>\n",
       "      <th>reading score</th>\n",
       "      <th>writing score</th>\n",
       "    </tr>\n",
       "  </thead>\n",
       "  <tbody>\n",
       "    <tr>\n",
       "      <th>missing_ratio</th>\n",
       "      <td>0.0</td>\n",
       "      <td>0.0</td>\n",
       "      <td>0.0</td>\n",
       "    </tr>\n",
       "  </tbody>\n",
       "</table>\n",
       "</div>"
      ],
      "text/plain": [
       "               math score  reading score  writing score\n",
       "missing_ratio         0.0            0.0            0.0"
      ]
     },
     "execution_count": 21,
     "metadata": {},
     "output_type": "execute_result"
    }
   ],
   "source": [
    "def missing_ratio(s):\n",
    "    return s.isna().mean() * 100\n",
    "df[['math score',  'reading score', 'writing score']].agg([missing_ratio])"
   ]
  },
  {
   "cell_type": "markdown",
   "id": "7b43df8e",
   "metadata": {},
   "source": [
    "Không có giá trị nào bị thiếu trong 3 cột này. Việc này có thể những đọc giả tinh ý thì cũng có thể đoán ra được 3 cột này \"rất khó\" để bị thiếu, vì nó là cột mà ta muốn đào sâu sau này nhất."
   ]
  },
  {
   "cell_type": "markdown",
   "id": "9ba6b2a0",
   "metadata": {},
   "source": [
    "#### Với mỗi cột dữ liệu dạng categorical thì các giá trị được phân bố như thế nào?"
   ]
  },
  {
   "cell_type": "markdown",
   "id": "a24ab5d2",
   "metadata": {},
   "source": [
    "Các cột dạng categorical sẽ là \"gender\", \"race/ethnicity\", \"parental level of education\" và \"lunch\"."
   ]
  },
  {
   "cell_type": "code",
   "execution_count": 22,
   "id": "88ce4a90",
   "metadata": {},
   "outputs": [
    {
     "data": {
      "text/html": [
       "<div>\n",
       "<style scoped>\n",
       "    .dataframe tbody tr th:only-of-type {\n",
       "        vertical-align: middle;\n",
       "    }\n",
       "\n",
       "    .dataframe tbody tr th {\n",
       "        vertical-align: top;\n",
       "    }\n",
       "\n",
       "    .dataframe thead th {\n",
       "        text-align: right;\n",
       "    }\n",
       "</style>\n",
       "<table border=\"1\" class=\"dataframe\">\n",
       "  <thead>\n",
       "    <tr style=\"text-align: right;\">\n",
       "      <th></th>\n",
       "      <th>count</th>\n",
       "      <th>unique</th>\n",
       "      <th>top</th>\n",
       "      <th>freq</th>\n",
       "    </tr>\n",
       "  </thead>\n",
       "  <tbody>\n",
       "    <tr>\n",
       "      <th>gender</th>\n",
       "      <td>1000</td>\n",
       "      <td>2</td>\n",
       "      <td>female</td>\n",
       "      <td>518</td>\n",
       "    </tr>\n",
       "    <tr>\n",
       "      <th>race/ethnicity</th>\n",
       "      <td>1000</td>\n",
       "      <td>5</td>\n",
       "      <td>group C</td>\n",
       "      <td>319</td>\n",
       "    </tr>\n",
       "    <tr>\n",
       "      <th>parental level of education</th>\n",
       "      <td>1000</td>\n",
       "      <td>6</td>\n",
       "      <td>some college</td>\n",
       "      <td>226</td>\n",
       "    </tr>\n",
       "    <tr>\n",
       "      <th>lunch</th>\n",
       "      <td>1000</td>\n",
       "      <td>2</td>\n",
       "      <td>standard</td>\n",
       "      <td>645</td>\n",
       "    </tr>\n",
       "    <tr>\n",
       "      <th>test preparation course</th>\n",
       "      <td>1000</td>\n",
       "      <td>2</td>\n",
       "      <td>none</td>\n",
       "      <td>642</td>\n",
       "    </tr>\n",
       "  </tbody>\n",
       "</table>\n",
       "</div>"
      ],
      "text/plain": [
       "                            count unique           top freq\n",
       "gender                       1000      2        female  518\n",
       "race/ethnicity               1000      5       group C  319\n",
       "parental level of education  1000      6  some college  226\n",
       "lunch                        1000      2      standard  645\n",
       "test preparation course      1000      2          none  642"
      ]
     },
     "execution_count": 22,
     "metadata": {},
     "output_type": "execute_result"
    }
   ],
   "source": [
    "df.describe(include=object).T"
   ]
  },
  {
   "cell_type": "markdown",
   "id": "6b8aaee1",
   "metadata": {},
   "source": [
    "Có thể thấy cột \"gender\" có số lượng mỗi bên đồng đều nhất, số lượng chênh lệch không nhiều. Các cột còn lại thì bị lệch một cách đáng kể mà mắt thường có thể nhận thấy."
   ]
  },
  {
   "cell_type": "markdown",
   "id": "92bd271a",
   "metadata": {},
   "source": [
    "Có bao nhiêu học sinh trong mỗi group của trường giá trị race/ethnicity?"
   ]
  },
  {
   "cell_type": "code",
   "execution_count": 33,
   "id": "4b5bbcd0",
   "metadata": {},
   "outputs": [
    {
     "data": {
      "image/png": "[encoded data removed]",
      "text/plain": [
       "<Figure size 720x360 with 1 Axes>"
      ]
     },
     "metadata": {
      "needs_background": "light"
     },
     "output_type": "display_data"
    }
   ],
   "source": [
    "race_counts = df['race/ethnicity'].value_counts()\n",
    "plt.figure(figsize=(10,5))\n",
    "ax = sns.barplot(x=race_counts.values, y=race_counts.index, orient='h')\n",
    "ax.set_title(\"Có bao nhiêu học sinh trong mỗi nhóm?\")\n",
    "ax.set_xlabel(xlabel=\"Số lượng\")\n",
    "ax.set_ylabel(ylabel=\"Chủng tộc\")\n",
    "\n",
    "for index, value in enumerate(race_counts): \n",
    "    plt.annotate(value, xy=(value-20, index), color='white')"
   ]
  },
  {
   "cell_type": "markdown",
   "id": "6b78a308",
   "metadata": {},
   "source": [
    "Các sinh viên chủ yếu thuộc nhóm C và nhóm D là nhiều nhất."
   ]
  },
  {
   "cell_type": "markdown",
   "id": "3a4e58a4",
   "metadata": {},
   "source": [
    "Trình độ học vấn của phụ huynh phân bố ra sao?"
   ]
  },
  {
   "cell_type": "code",
   "execution_count": 36,
   "id": "799444cb",
   "metadata": {},
   "outputs": [
    {
     "data": {
      "image/png": "[encoded data removed]",
      "text/plain": [
       "<Figure size 720x360 with 1 Axes>"
      ]
     },
     "metadata": {
      "needs_background": "light"
     },
     "output_type": "display_data"
    }
   ],
   "source": [
    "parental_level_counts = df['parental level of education'].value_counts()\n",
    "plt.figure(figsize=(10,5))\n",
    "ax = sns.barplot(x=parental_level_counts.index, y=parental_level_counts.values)\n",
    "ax.set_title(\"Trình độ học vấn của phụ huynh phân bố ra sao?\")\n",
    "ax.set_xlabel(xlabel=\"Trình độ\")\n",
    "ax.set_ylabel(ylabel=\"Số lượng\")\n",
    "\n",
    "for index, value in enumerate(parental_level_counts): \n",
    "    plt.annotate(value, xy=(index, value-15), color='white') "
   ]
  },
  {
   "cell_type": "markdown",
   "id": "3a2ffb95",
   "metadata": {},
   "source": [
    "Đa số các bậc phụ huynh đều đã có bằng đại học hoặc bằng cao đẳng."
   ]
  },
  {
   "cell_type": "markdown",
   "id": "62410669",
   "metadata": {},
   "source": [
    "Kết hợp cả hai đồ thị trên, ta có thể xem phân phối được loại bằng cấp nào của phụ huynh là phổ biến nhất trong các chủng tộc/dân tộc. "
   ]
  },
  {
   "cell_type": "code",
   "execution_count": 40,
   "id": "9ae8f163",
   "metadata": {},
   "outputs": [
    {
     "data": {
      "image/png": "[encoded data removed]",
      "text/plain": [
       "<Figure size 1440x720 with 1 Axes>"
      ]
     },
     "metadata": {
      "needs_background": "light"
     },
     "output_type": "display_data"
    }
   ],
   "source": [
    "ax = pd.crosstab(df[\"race/ethnicity\"], [df[\"parental level of education\"]]).plot.bar(stacked=True, figsize=(20,10))\n",
    "ax.set_title(\"Phân phối trình độ học vấn của phụ huynh qua từng chủng tộc?\")\n",
    "ax.set_xlabel(xlabel=\"Chủng tộc\")\n",
    "ax.set_ylabel(ylabel=\"Count\")\n",
    "ax.set_xticklabels(ax.get_xticklabels(), rotation=0)\n",
    "ax.legend(loc=\"upper left\", title=\"Parental Level of Education\");"
   ]
  },
  {
   "cell_type": "markdown",
   "id": "f0b829e5",
   "metadata": {},
   "source": [
    "Số lượng phụ huynh với bằng đại học vẫn nhiều nhất trong tất cả các nhóm chủng tộc."
   ]
  },
  {
   "cell_type": "markdown",
   "id": "b734d3f4",
   "metadata": {},
   "source": [
    "Có cột nào bị thiếu giá trị hay không?"
   ]
  },
  {
   "cell_type": "code",
   "execution_count": 41,
   "id": "faa95adc",
   "metadata": {},
   "outputs": [
    {
     "data": {
      "text/plain": [
       "gender                         0\n",
       "race/ethnicity                 0\n",
       "parental level of education    0\n",
       "lunch                          0\n",
       "dtype: int64"
      ]
     },
     "execution_count": 41,
     "metadata": {},
     "output_type": "execute_result"
    }
   ],
   "source": [
    "df[[\"gender\", \"race/ethnicity\", \"parental level of education\", \"lunch\"]].isnull().sum()"
   ]
  },
  {
   "cell_type": "markdown",
   "id": "6c1c9098",
   "metadata": {},
   "source": [
    "Tới đây, có thể thấy tác giả thu thập dữ liệu rất tốt, không một cột nào bị thiếu dữ liệu cả."
   ]
  },
  {
   "cell_type": "markdown",
   "id": "179ef90f",
   "metadata": {},
   "source": [
    "### Làm rõ hơn về ý nghĩa của cột dữ liệu dạng categorical"
   ]
  },
  {
   "cell_type": "markdown",
   "id": "945fe70b",
   "metadata": {},
   "source": [
    "- **lunch:** cột này có 2 giá trị là \"standard\" hoặc \"free/reduced\". \"Standard\" có nghĩa là tiêu chuẩn, tức là một bữa ăn đạt tiêu chuẩn (theo một chuẩn đánh giá của Mỹ, <a href=\"https://schoolnutrition.org/AboutSchoolMeals/SchoolMealTrendsStats/\">xem ở đây để thêm chi tiết</a>). Còn đối với bữa ăn \"free/reduced\" thì học sinh được hỗ trợ miễn phí hoặc giảm một số tiền nhất định. Về chất lượng thì bữa ăn giống nhau.\n",
    "- **test preparation course:** có nghĩa là sinh viên đã hoàn thành khóa học ôn luyện trước khi làm bài kiểm tra hay chưa (giống như kiểu học thêm ở Việt Nam), gồm 2 giá trị, đã hoàn thành (Completed) hoặc không (None)."
   ]
  },
  {
   "cell_type": "markdown",
   "id": "fee6c4f3",
   "metadata": {},
   "source": [
    "# 3. Ask meaningful question"
   ]
  },
  {
   "cell_type": "markdown",
   "id": "d6e645d1",
   "metadata": {},
   "source": [
    "## 3.1. "
   ]
  },
  {
   "cell_type": "markdown",
   "id": "ee91437c",
   "metadata": {},
   "source": [
    "# 4. Preprocess and analyze data to answer questions"
   ]
  },
  {
   "cell_type": "markdown",
   "id": "63ee55ca",
   "metadata": {},
   "source": [
    "# 5. Reflection"
   ]
  },
  {
   "cell_type": "markdown",
   "id": "9534f8b0",
   "metadata": {},
   "source": [
    "# 6. Reference"
   ]
  }
 ],
 "metadata": {
  "kernelspec": {
   "display_name": "Python 3 (ipykernel)",
   "language": "python",
   "name": "python3"
  },
  "language_info": {
   "codemirror_mode": {
    "name": "ipython",
    "version": 3
   },
   "file_extension": ".py",
   "mimetype": "text/x-python",
   "name": "python",
   "nbconvert_exporter": "python",
   "pygments_lexer": "ipython3",
   "version": "3.9.2"
  }
 },
 "nbformat": 4,
 "nbformat_minor": 5
}

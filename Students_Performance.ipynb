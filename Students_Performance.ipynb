{
 "cells": [
  {
   "cell_type": "markdown",
   "id": "a5126d71",
   "metadata": {},
   "source": [
    "# <center>Đồ Án Cuối Kì</center>"
   ]
  },
  {
   "cell_type": "markdown",
   "id": "d7396885",
   "metadata": {},
   "source": [
    "## Mục lục\n",
    "* [Danh sách thành viên](#c1)\n",
    "* [Cách chạy Project](#c2)\n",
    "* [Nội dung](#c3)\n",
    "    * [Thu thập dữ liệu](#c31)\n",
    "        * [Chủ đề dữ liệu của bạn là gì? Nguồn lấy từ đâu?](#c311)\n",
    "        * [Bạn có được quyền sử dụng dữ liệu từ tác giả hay không?](#c312)\n",
    "        * [Tác giả thu thập dữ liệu như thế nào?](#c313)\n",
    "    * [Khám phá dữ liệu](#c32)\n",
    "        * [Dữ liệu có bao nhiêu dòng và bao nhiêu cột?](#c321)\n",
    "        * [Mỗi dòng có ý nghĩa gì? Có vấn đề các dòng có ý nghĩa khác nhau không?](#c322)\n",
    "        * [Dữ liệu có các dòng bị lặp không?](#c323)\n",
    "        * [Mỗi cột có ý nghĩa gì?](#c324)\n",
    "        * [Dữ liệu có bị thiếu hay không?](#c325)\n",
    "        * [Mỗi cột hiện đang có kiểu dữ liệu gì? Có cột nào có kiểu dữ liệu chưa phù hợp để có thể xử lý tiếp không?](#c326)\n",
    "        * [Với mỗi cột có kiểu dữ liệu dạng số (numeric), các giá trị được phân bố như thế nào?](#c327)\n",
    "        * [Với mỗi cột có kiểu dữ liệu dạng phân loại (categorical), các giá trị được phân bố như thế nào?](#c328)\n",
    "    * [Đưa ra câu hỏi có ý nghĩa cần trả lời](#c33)\n",
    "* [Nguồn tham khảo](#c4)"
   ]
  },
  {
   "cell_type": "markdown",
   "id": "a2cf6f65",
   "metadata": {},
   "source": [
    "## Danh sách thành viên <a class=\"anchor\" id=\"c1\"></a>\n",
    "\n",
    "STT&emsp;&emsp;&emsp;&emsp;&emsp;&emsp;Thông tin sinh viên&emsp;&emsp;&emsp;&emsp;&emsp;&emsp;&emsp;&emsp;&emsp;&ensp;Github username\n",
    "<br>\n",
    "1&emsp;&emsp;&emsp;&emsp;&emsp;&emsp;&emsp;&nbsp;Phạm Ngọc Thiên Ân - 19127094&emsp;&emsp;&emsp;&ensp;PNTAN19\n",
    "<br>\n",
    "2&emsp;&emsp;&emsp;&emsp;&emsp;&emsp;&emsp;&nbsp;Phan Vĩ Giai - 19127639&emsp;&emsp;&emsp;&emsp;&emsp;&emsp;&emsp;&nbsp;owfdataboy"
   ]
  },
  {
   "cell_type": "markdown",
   "id": "f887cc8c",
   "metadata": {},
   "source": [
    "## CÁCH CHẠY PROJECT <a class=\"anchor\" id=\"c2\"></a>\n",
    "**Chọn Kernel -> Restart & Run All**"
   ]
  },
  {
   "cell_type": "markdown",
   "id": "d6e94417",
   "metadata": {},
   "source": [
    "## Nội dung <a class=\"anchor\" id=\"c3\"></a>"
   ]
  },
  {
   "cell_type": "markdown",
   "id": "050cc725",
   "metadata": {},
   "source": [
    "### Import các thư viện cần thiết"
   ]
  },
  {
   "cell_type": "code",
   "execution_count": 1,
   "id": "73518b28",
   "metadata": {},
   "outputs": [],
   "source": [
    "import numpy as np\n",
    "import pandas as pd\n",
    "import seaborn as sns\n",
    "import matplotlib.pyplot as plt"
   ]
  },
  {
   "cell_type": "markdown",
   "id": "b1498f01",
   "metadata": {},
   "source": [
    "### Đọc dữ liệu vào DataFrame"
   ]
  },
  {
   "cell_type": "code",
   "execution_count": 2,
   "id": "e7ad63b4",
   "metadata": {},
   "outputs": [],
   "source": [
    "df = pd.read_csv(\"StudentsPerformance.csv\")"
   ]
  },
  {
   "cell_type": "code",
   "execution_count": 3,
   "id": "27a7cbe4",
   "metadata": {},
   "outputs": [
    {
     "data": {
      "text/html": [
       "<div>\n",
       "<style scoped>\n",
       "    .dataframe tbody tr th:only-of-type {\n",
       "        vertical-align: middle;\n",
       "    }\n",
       "\n",
       "    .dataframe tbody tr th {\n",
       "        vertical-align: top;\n",
       "    }\n",
       "\n",
       "    .dataframe thead th {\n",
       "        text-align: right;\n",
       "    }\n",
       "</style>\n",
       "<table border=\"1\" class=\"dataframe\">\n",
       "  <thead>\n",
       "    <tr style=\"text-align: right;\">\n",
       "      <th></th>\n",
       "      <th>gender</th>\n",
       "      <th>race/ethnicity</th>\n",
       "      <th>parental level of education</th>\n",
       "      <th>lunch</th>\n",
       "      <th>test preparation course</th>\n",
       "      <th>math score</th>\n",
       "      <th>reading score</th>\n",
       "      <th>writing score</th>\n",
       "    </tr>\n",
       "  </thead>\n",
       "  <tbody>\n",
       "    <tr>\n",
       "      <th>0</th>\n",
       "      <td>female</td>\n",
       "      <td>group B</td>\n",
       "      <td>bachelor's degree</td>\n",
       "      <td>standard</td>\n",
       "      <td>none</td>\n",
       "      <td>72</td>\n",
       "      <td>72</td>\n",
       "      <td>74</td>\n",
       "    </tr>\n",
       "    <tr>\n",
       "      <th>1</th>\n",
       "      <td>female</td>\n",
       "      <td>group C</td>\n",
       "      <td>some college</td>\n",
       "      <td>standard</td>\n",
       "      <td>completed</td>\n",
       "      <td>69</td>\n",
       "      <td>90</td>\n",
       "      <td>88</td>\n",
       "    </tr>\n",
       "    <tr>\n",
       "      <th>2</th>\n",
       "      <td>female</td>\n",
       "      <td>group B</td>\n",
       "      <td>master's degree</td>\n",
       "      <td>standard</td>\n",
       "      <td>none</td>\n",
       "      <td>90</td>\n",
       "      <td>95</td>\n",
       "      <td>93</td>\n",
       "    </tr>\n",
       "    <tr>\n",
       "      <th>3</th>\n",
       "      <td>male</td>\n",
       "      <td>group A</td>\n",
       "      <td>associate's degree</td>\n",
       "      <td>free/reduced</td>\n",
       "      <td>none</td>\n",
       "      <td>47</td>\n",
       "      <td>57</td>\n",
       "      <td>44</td>\n",
       "    </tr>\n",
       "    <tr>\n",
       "      <th>4</th>\n",
       "      <td>male</td>\n",
       "      <td>group C</td>\n",
       "      <td>some college</td>\n",
       "      <td>standard</td>\n",
       "      <td>none</td>\n",
       "      <td>76</td>\n",
       "      <td>78</td>\n",
       "      <td>75</td>\n",
       "    </tr>\n",
       "  </tbody>\n",
       "</table>\n",
       "</div>"
      ],
      "text/plain": [
       "   gender race/ethnicity parental level of education         lunch  \\\n",
       "0  female        group B           bachelor's degree      standard   \n",
       "1  female        group C                some college      standard   \n",
       "2  female        group B             master's degree      standard   \n",
       "3    male        group A          associate's degree  free/reduced   \n",
       "4    male        group C                some college      standard   \n",
       "\n",
       "  test preparation course  math score  reading score  writing score  \n",
       "0                    none          72             72             74  \n",
       "1               completed          69             90             88  \n",
       "2                    none          90             95             93  \n",
       "3                    none          47             57             44  \n",
       "4                    none          76             78             75  "
      ]
     },
     "execution_count": 3,
     "metadata": {},
     "output_type": "execute_result"
    }
   ],
   "source": [
    "df.head()"
   ]
  },
  {
   "cell_type": "markdown",
   "id": "2759d190",
   "metadata": {},
   "source": [
    "### Thu thập dữ liệu <a class=\"anchor\" id=\"c31\"></a>"
   ]
  },
  {
   "cell_type": "markdown",
   "id": "0579e576",
   "metadata": {},
   "source": [
    "### Chủ đề dữ liệu của bạn là gì? Nguồn lấy từ đâu? <a class=\"anchor\" id=\"c311\"></a>"
   ]
  },
  {
   "cell_type": "markdown",
   "id": "a48ae385",
   "metadata": {},
   "source": [
    "Trong đồ án này, nhóm em sẽ thực hiện phân tích dữ liệu về \"Những tác nhân tác động lên điểm số của học sinh\" ở nước Mỹ.\n",
    "\n",
    "Học sinh mà chúng ta quan tâm trong dữ liệu này có thể là các bạn `học sinh tiểu học` vì có điểm toán, điểm đọc và điểm nghe ? \n",
    "Vậy ở đây, chúng ta xem dữ liệu này là học sinh tiểu học nhằm mục đích có những câu hỏi cụ thể hơn về nhóm học sinh\n",
    "\n",
    "Dữ liệu tên là \"Students Performance in Exams\" của tác giả Jakki Seshapanpu, ông sinh sống tại Ấn độ.\\\n",
    "Dữ liệu được tác giả public trên Kaggle.com, được download [tại đây](https://www.kaggle.com/spscientist/students-performance-in-exams)."
   ]
  },
  {
   "cell_type": "markdown",
   "id": "fe17780e",
   "metadata": {},
   "source": [
    "### Bạn có được quyền sử dụng dữ liệu từ tác giả hay không? <a class=\"anchor\" id=\"c312\"></a>"
   ]
  },
  {
   "cell_type": "markdown",
   "id": "29e08ceb",
   "metadata": {},
   "source": [
    "### Tác giả thu thập dữ liệu như thế nào? <a class=\"anchor\" id=\"c313\"></a>"
   ]
  },
  {
   "cell_type": "markdown",
   "id": "e8293eb9",
   "metadata": {},
   "source": [
    "### Khám phá dữ liệu <a class=\"anchor\" id=\"c32\"></a>"
   ]
  },
  {
   "cell_type": "markdown",
   "id": "a9b76752",
   "metadata": {},
   "source": [
    "### Dữ liệu có bao nhiêu dòng và bao nhiêu cột? <a class=\"anchor\" id=\"c321\"></a>"
   ]
  },
  {
   "cell_type": "code",
   "execution_count": 4,
   "id": "31a61213",
   "metadata": {},
   "outputs": [
    {
     "data": {
      "text/plain": [
       "(1000, 8)"
      ]
     },
     "execution_count": 4,
     "metadata": {},
     "output_type": "execute_result"
    }
   ],
   "source": [
    "df.shape"
   ]
  },
  {
   "cell_type": "markdown",
   "id": "c6bd0fc5",
   "metadata": {},
   "source": [
    "Dữ liệu gồm 1000 dòng (tương đương với 1000 học sinh) và 8 cột (8 trường dữ liệu)"
   ]
  },
  {
   "cell_type": "markdown",
   "id": "81aaf54a",
   "metadata": {},
   "source": [
    "### Mỗi dòng có ý nghĩa gì? Có vấn đề các dòng có ý nghĩa khác nhau không? <a class=\"anchor\" id=\"c322\"></a>"
   ]
  },
  {
   "cell_type": "markdown",
   "id": "51af2488",
   "metadata": {},
   "source": [
    "Theo file mô tả dữ liệu và theo quan sát sơ bộ về dữ liệu thì một dòng cho biết thông tin của các thuộc tính và số điểm của học sinh. Và các dòng có ý nghĩa tương đương nhau."
   ]
  },
  {
   "cell_type": "markdown",
   "id": "6c6ef03f",
   "metadata": {},
   "source": [
    "### Dữ liệu có các dòng bị lặp không? <a class=\"anchor\" id=\"c323\"></a>"
   ]
  },
  {
   "cell_type": "code",
   "execution_count": 5,
   "id": "06c40e12",
   "metadata": {},
   "outputs": [
    {
     "data": {
      "text/plain": [
       "False"
      ]
     },
     "execution_count": 5,
     "metadata": {},
     "output_type": "execute_result"
    }
   ],
   "source": [
    "have_duplicated_rows = df.duplicated().eq(True).all()\n",
    "have_duplicated_rows"
   ]
  },
  {
   "cell_type": "markdown",
   "id": "7d2be5b3",
   "metadata": {},
   "source": [
    "Dữ liệu không bị trùng lặp"
   ]
  },
  {
   "cell_type": "markdown",
   "id": "2cf1d518",
   "metadata": {},
   "source": [
    "### Mỗi cột có ý nghĩa gì? <a class=\"anchor\" id=\"c324\"></a>"
   ]
  },
  {
   "cell_type": "markdown",
   "id": "27c0586d",
   "metadata": {},
   "source": [
    "Sau đây là phần mô tả dữ liệu cho \"Students Performance in Exams\":\n",
    "- **gender**: Giới tính của học sinh\n",
    "- **race/ethnicity**: Chủng tộc/dân tộc của học sinh\n",
    "- **parental level of education**: Trình độ học vấn của cha mẹ\n",
    "- **lunch**: Mức độ bữa ăn của học sinh\n",
    "- **test preparation course**: Sự chuẩn bị cho bài kiểm tra\n",
    "- **math score**: Điểm môn toán của học sinh\n",
    "- **reading score**: Điểm môn đọc của học sinh\n",
    "- **writing score**: Điểm môn viết của học sinh"
   ]
  },
  {
   "cell_type": "markdown",
   "id": "7502602f",
   "metadata": {},
   "source": [
    "### Dữ liệu có bị thiếu hay không? <a class=\"anchor\" id=\"c325\"></a>"
   ]
  },
  {
   "cell_type": "code",
   "execution_count": 6,
   "id": "aac9c1fa",
   "metadata": {},
   "outputs": [
    {
     "data": {
      "text/html": [
       "<div>\n",
       "<style scoped>\n",
       "    .dataframe tbody tr th:only-of-type {\n",
       "        vertical-align: middle;\n",
       "    }\n",
       "\n",
       "    .dataframe tbody tr th {\n",
       "        vertical-align: top;\n",
       "    }\n",
       "\n",
       "    .dataframe thead th {\n",
       "        text-align: right;\n",
       "    }\n",
       "</style>\n",
       "<table border=\"1\" class=\"dataframe\">\n",
       "  <thead>\n",
       "    <tr style=\"text-align: right;\">\n",
       "      <th></th>\n",
       "      <th>missing_ratio</th>\n",
       "    </tr>\n",
       "  </thead>\n",
       "  <tbody>\n",
       "    <tr>\n",
       "      <th>gender</th>\n",
       "      <td>0.0</td>\n",
       "    </tr>\n",
       "    <tr>\n",
       "      <th>race/ethnicity</th>\n",
       "      <td>0.0</td>\n",
       "    </tr>\n",
       "    <tr>\n",
       "      <th>parental level of education</th>\n",
       "      <td>0.0</td>\n",
       "    </tr>\n",
       "    <tr>\n",
       "      <th>lunch</th>\n",
       "      <td>0.0</td>\n",
       "    </tr>\n",
       "    <tr>\n",
       "      <th>test preparation course</th>\n",
       "      <td>0.0</td>\n",
       "    </tr>\n",
       "    <tr>\n",
       "      <th>math score</th>\n",
       "      <td>0.0</td>\n",
       "    </tr>\n",
       "    <tr>\n",
       "      <th>reading score</th>\n",
       "      <td>0.0</td>\n",
       "    </tr>\n",
       "    <tr>\n",
       "      <th>writing score</th>\n",
       "      <td>0.0</td>\n",
       "    </tr>\n",
       "  </tbody>\n",
       "</table>\n",
       "</div>"
      ],
      "text/plain": [
       "                             missing_ratio\n",
       "gender                                 0.0\n",
       "race/ethnicity                         0.0\n",
       "parental level of education            0.0\n",
       "lunch                                  0.0\n",
       "test preparation course                0.0\n",
       "math score                             0.0\n",
       "reading score                          0.0\n",
       "writing score                          0.0"
      ]
     },
     "execution_count": 6,
     "metadata": {},
     "output_type": "execute_result"
    }
   ],
   "source": [
    "def missing_ratio(s):\n",
    "    return s.isna().mean() * 100\n",
    "\n",
    "df.agg([missing_ratio]).T"
   ]
  },
  {
   "cell_type": "markdown",
   "id": "f62c8d43",
   "metadata": {},
   "source": [
    "### Mỗi cột hiện đang có kiểu dữ liệu gì? Có cột nào có kiểu dữ liệu chưa phù hợp để có thể xử lý tiếp không? <a class=\"anchor\" id=\"c326\"></a>"
   ]
  },
  {
   "cell_type": "code",
   "execution_count": 7,
   "id": "d3ac866f",
   "metadata": {},
   "outputs": [
    {
     "name": "stdout",
     "output_type": "stream",
     "text": [
      "<class 'pandas.core.frame.DataFrame'>\n",
      "RangeIndex: 1000 entries, 0 to 999\n",
      "Data columns (total 8 columns):\n",
      " #   Column                       Non-Null Count  Dtype \n",
      "---  ------                       --------------  ----- \n",
      " 0   gender                       1000 non-null   object\n",
      " 1   race/ethnicity               1000 non-null   object\n",
      " 2   parental level of education  1000 non-null   object\n",
      " 3   lunch                        1000 non-null   object\n",
      " 4   test preparation course      1000 non-null   object\n",
      " 5   math score                   1000 non-null   int64 \n",
      " 6   reading score                1000 non-null   int64 \n",
      " 7   writing score                1000 non-null   int64 \n",
      "dtypes: int64(3), object(5)\n",
      "memory usage: 62.6+ KB\n"
     ]
    }
   ],
   "source": [
    "df.info()"
   ]
  },
  {
   "cell_type": "markdown",
   "id": "f03a76b5",
   "metadata": {},
   "source": [
    "Theo như quan sát dữ liệu trên thì có thể thấy:\n",
    "- Có 5 cột mang dữ liệu `object` gồm cột \"gender\", \"race/ethnicity\", \"parental level of education\", \"lunch\" và \"test preparation course\".\n",
    "- Và có 3 cột mang kiểu dữ liệu `int64` là các cột điểm của chúng ta gồm \"math score\", \"reading score\" và \"writing score\"\n",
    "\n",
    "Ở đây, có kiểu dữ liệu `object` khá bất thường ? Trong Pandas, kiểu dữ liệu object thường ám chỉ chuỗi, nhưng thật ra kiểu dữ liệu object có thể chứa một đối tượng bất kỳ trong Python (vì thật ra ở bên dưới kiểu dữ liệu object chứa địa chỉ). Nếu cột có dữ liệu là `object` thì kiểu dữ liệu của cột có thể khác nhau. Để có thể chắc chắn 5 cột dữ liệu `object` của chúng ta thuộc kiểu dữ liệu mong muốn là `str` thì chúng ta phải thực hiện một thao tác kiểm tra từng phần tử của cột đó, để có thể biết chắc rằng thực sự cột đó có thể chứa những kiểu dữ liệu nào khác hay không ?"
   ]
  },
  {
   "cell_type": "code",
   "execution_count": 8,
   "id": "a2c2542e",
   "metadata": {},
   "outputs": [],
   "source": [
    "def open_object_dtype(s):\n",
    "    dtypes = set()\n",
    "    \n",
    "    def get_type(cell):\n",
    "        if type(cell) is str:\n",
    "            dtypes.add(str)\n",
    "        elif type(cell) is float:\n",
    "            dtypes.add(float)\n",
    "    s.apply(get_type)\n",
    "    \n",
    "    return dtypes"
   ]
  },
  {
   "cell_type": "code",
   "execution_count": 9,
   "id": "c4c87ce5",
   "metadata": {},
   "outputs": [],
   "source": [
    "assert open_object_dtype(df['gender']) == {str}\n",
    "assert open_object_dtype(df['race/ethnicity']) == {str}\n",
    "assert open_object_dtype(df['parental level of education']) == {str}\n",
    "assert open_object_dtype(df['lunch']) == {str}\n",
    "assert open_object_dtype(df['test preparation course']) == {str}"
   ]
  },
  {
   "cell_type": "markdown",
   "id": "4ebb758f",
   "metadata": {},
   "source": [
    "Kết quả cuối cùng cho thấy các cột có kiểu dữ liệu đúng như mong đợi của chúng ta. Nên sẽ không cần xử lý về kiểu dữ liệu cho các cột nữa."
   ]
  },
  {
   "cell_type": "markdown",
   "id": "45ff9fa3",
   "metadata": {},
   "source": [
    "Tập dữ liệu chúng ta hoàn hảo (không bị thiếu thuộc tính nào cả)"
   ]
  },
  {
   "cell_type": "markdown",
   "id": "776093de",
   "metadata": {},
   "source": [
    "### Với mỗi cột có kiểu dữ liệu dạng số (numeric), các giá trị được phân bố như thế nào?\n",
    "<a class=\"anchor\" id=\"c327\"></a>"
   ]
  },
  {
   "cell_type": "markdown",
   "id": "0666f991",
   "metadata": {},
   "source": [
    "#### Dữ liệu thống kê cho thuộc tính dạng số"
   ]
  },
  {
   "cell_type": "code",
   "execution_count": 10,
   "id": "e8d190bc",
   "metadata": {},
   "outputs": [
    {
     "data": {
      "text/html": [
       "<div>\n",
       "<style scoped>\n",
       "    .dataframe tbody tr th:only-of-type {\n",
       "        vertical-align: middle;\n",
       "    }\n",
       "\n",
       "    .dataframe tbody tr th {\n",
       "        vertical-align: top;\n",
       "    }\n",
       "\n",
       "    .dataframe thead th {\n",
       "        text-align: right;\n",
       "    }\n",
       "</style>\n",
       "<table border=\"1\" class=\"dataframe\">\n",
       "  <thead>\n",
       "    <tr style=\"text-align: right;\">\n",
       "      <th></th>\n",
       "      <th>count</th>\n",
       "      <th>mean</th>\n",
       "      <th>std</th>\n",
       "      <th>min</th>\n",
       "      <th>25%</th>\n",
       "      <th>50%</th>\n",
       "      <th>75%</th>\n",
       "      <th>max</th>\n",
       "    </tr>\n",
       "  </thead>\n",
       "  <tbody>\n",
       "    <tr>\n",
       "      <th>math score</th>\n",
       "      <td>1000.0</td>\n",
       "      <td>66.089</td>\n",
       "      <td>15.163080</td>\n",
       "      <td>0.0</td>\n",
       "      <td>57.00</td>\n",
       "      <td>66.0</td>\n",
       "      <td>77.0</td>\n",
       "      <td>100.0</td>\n",
       "    </tr>\n",
       "    <tr>\n",
       "      <th>reading score</th>\n",
       "      <td>1000.0</td>\n",
       "      <td>69.169</td>\n",
       "      <td>14.600192</td>\n",
       "      <td>17.0</td>\n",
       "      <td>59.00</td>\n",
       "      <td>70.0</td>\n",
       "      <td>79.0</td>\n",
       "      <td>100.0</td>\n",
       "    </tr>\n",
       "    <tr>\n",
       "      <th>writing score</th>\n",
       "      <td>1000.0</td>\n",
       "      <td>68.054</td>\n",
       "      <td>15.195657</td>\n",
       "      <td>10.0</td>\n",
       "      <td>57.75</td>\n",
       "      <td>69.0</td>\n",
       "      <td>79.0</td>\n",
       "      <td>100.0</td>\n",
       "    </tr>\n",
       "  </tbody>\n",
       "</table>\n",
       "</div>"
      ],
      "text/plain": [
       "                count    mean        std   min    25%   50%   75%    max\n",
       "math score     1000.0  66.089  15.163080   0.0  57.00  66.0  77.0  100.0\n",
       "reading score  1000.0  69.169  14.600192  17.0  59.00  70.0  79.0  100.0\n",
       "writing score  1000.0  68.054  15.195657  10.0  57.75  69.0  79.0  100.0"
      ]
     },
     "execution_count": 10,
     "metadata": {},
     "output_type": "execute_result"
    }
   ],
   "source": [
    "df.describe().T"
   ]
  },
  {
   "cell_type": "markdown",
   "id": "1480f15f",
   "metadata": {},
   "source": [
    "#### Một chút nhận xét về dữ liệu thống kê:\n",
    "\n",
    "Dữ liệu số bao gồm 3 cột `math score`, `reading score`, `writing score` đều có 1000 dòng.\n",
    "\n",
    "Đối với thuộc tính `math score`:\n",
    "- Trung bình rơi vào khoảng `66` điểm\n",
    "- Độ lệch chuẩn là `15.163`\n",
    "- Điểm thấp nhất của `môn toán ` là 0 điểm\n",
    "- Điểm cao nhất của `môn toán ` là 100 điểm\n",
    "- Thông số thống kê `Interquartile`: \n",
    "    - Có 25% học sinh thuộc loại trung bình yếu (< 57 điểm)\n",
    "    - Có 50% học sinh trên trung bình (trên 66 điểm)\n",
    "    - Và có 75% học sinh thuộc loại giỏi (trên 77 điểm)\n",
    "    \n",
    "Tương tự đối với thuộc tính `reading score`:\n",
    "- Trung bình rơi vào khoảng `69` điểm\n",
    "- Độ lệch chuẩn là `14.6`\n",
    "- Điểm thấp nhất của `môn đọc ` là 17 điểm\n",
    "- Điểm cao nhất của `môn đọc ` là 100 điểm\n",
    "- Thông số thống kê `Interquartile`: \n",
    "    - Có 25% học sinh thuộc loại trung bình yếu (< 59 điểm)\n",
    "    - Có 50% học sinh trên trung bình (trên 70 điểm)\n",
    "    - Và có 75% học sinh thuộc loại giỏi (trên 79 điểm)\n",
    "    \n",
    "Tương tự đối với thuộc tính `writing score`:\n",
    "- Trung bình rơi vào khoảng `68` điểm\n",
    "- Độ lệch chuẩn là `15.195`\n",
    "- Điểm thấp nhất của `môn viết ` là 10 điểm\n",
    "- Điểm cao nhất của `môn đọc ` là 100 điểm\n",
    "- Thông số thống kê `Interquartile`: \n",
    "    - Có 25% học sinh thuộc loại trung bình yếu (< 57.75 điểm)\n",
    "    - Có 50% học sinh trên trung bình (trên 69 điểm)\n",
    "    - Và có 75% học sinh thuộc loại giỏi (trên 79 điểm)\n",
    "    \n",
    "So sánh dữ liệu điểm của ba thuộc tính `math score`, `reading score`, `writing score`:\n",
    "- Cả ba môn đều có học sinh đạt số điểm tối đa là 100 (Quá giỏi :)) )\n",
    "- Cả ba môn đều có số học sinh khá/giỏi (Đạt số điểm > 75 điểm) khá tương tự nhau => Lớp này có thể có các học sinh học đồng đều tất cả ba môn không ? Maybe...\n",
    "- Dựa vào `giá trị trung bình` và `độ lệch chuẩn` ta có thể thấy sự dàn trải dữ liệu `(range)` của ba môn đều khá đều như nhau \n",
    "- `Điểm toán` là môn có học sinh 0 điểm (Trong lớp có học sinh yếu toán :>)\n",
    "- Chúng ta cần trực quan các giá trị để xem thêm dữ liệu của chúng ta có phải là `biểu đồ Gauss` hay không... "
   ]
  },
  {
   "cell_type": "markdown",
   "id": "a6a473e5",
   "metadata": {},
   "source": [
    "#### Dữ liệu điểm của từng môn được phân bố như thế nào ?"
   ]
  },
  {
   "cell_type": "code",
   "execution_count": 11,
   "id": "50f9a32b",
   "metadata": {},
   "outputs": [],
   "source": [
    "def plt_hist(field):\n",
    "    f, ax_hist = plt.subplots(1, sharex=True)\n",
    "    mean=df[field].mean()\n",
    "    median=df[field].median()\n",
    "    mode=df[field].mode().values[0]\n",
    "\n",
    "    sns.histplot(data=df, x=field, ax=ax_hist, kde=True)\n",
    "    ax_hist.axvline(mean, color='r', linestyle='--', label=\"Mean\")\n",
    "    ax_hist.axvline(median, color='g', linestyle='-', label=\"Median\")\n",
    "    ax_hist.axvline(mode, color='b', linestyle='-', label=\"Mode\")\n",
    "    \n",
    "    ax_hist.legend()\n",
    "    plt.show()"
   ]
  },
  {
   "cell_type": "code",
   "execution_count": 12,
   "id": "aeafcec0",
   "metadata": {},
   "outputs": [
    {
     "data": {
      "image/png": "[encoded data removed]",
      "text/plain": [
       "<Figure size 432x288 with 1 Axes>"
      ]
     },
     "metadata": {
      "needs_background": "light"
     },
     "output_type": "display_data"
    }
   ],
   "source": [
    "plt_hist('math score')"
   ]
  },
  {
   "cell_type": "markdown",
   "id": "6a5c5f4b",
   "metadata": {},
   "source": [
    "#### Nhận xét về sự phân bố dữ liệu `math score`\n",
    "\n",
    "Dựa vào biểu đồ trực quan của dữ liệu `math score`:\n",
    "- Sự phân bố của `mean`, `median` và `mode` gần như là như nhau => Biểu đồ sắp xỉ là `dạng chuẩn`\n",
    "- Biểu đồ này là `Single mode`\n",
    "- Các dữ liệu tập trung xung quanh khoảng 65 và các vài điểm dữ liệu nằm bên trái khoảng từ 0 đến 30 => Số học sinh khá chiếm đa số, số học sinh giỏi 80 điểm trở lên cũng cỡ 100 bạn (nghĩa là 10%)\n",
    "- Nhìn thì có vẻ biểu đồ chúng ta bị lệch phải vì giá trị `mean` bị lệch 1 chút xíu về bên phải so với `median` và `mode`"
   ]
  },
  {
   "cell_type": "code",
   "execution_count": 13,
   "id": "288ea27a",
   "metadata": {},
   "outputs": [
    {
     "data": {
      "image/png": "[encoded data removed]",
      "text/plain": [
       "<Figure size 432x288 with 1 Axes>"
      ]
     },
     "metadata": {
      "needs_background": "light"
     },
     "output_type": "display_data"
    }
   ],
   "source": [
    "plt_hist('reading score')"
   ]
  },
  {
   "cell_type": "markdown",
   "id": "29211bea",
   "metadata": {},
   "source": [
    "#### Nhận xét về sự phân bố dữ liệu `reading score`\n",
    "\n",
    "Dựa vào biểu đồ trực quan của dữ liệu `reading score`:\n",
    "- Sự phân bố của `mean` và `median` lệch so `mode`\n",
    "- Cụ thể là `mean` và `median` nằm về phía bên trái còn `mode` thì nằm về phía bên phải (`mean` và `median` ở khoảng 65 và `mode` là điểm 70)\n",
    "- Biểu đồ này cũng là `Single mode` (Có thể là `Bi Modal` nhưng ở điểm dữ liệu khoảng 65 nó không cho thấy rõ điều đó, nó chỉ lệch 1 đoạn khá nhỏ thì đi xuống)\n",
    "- Các dữ liệu cũng tập trung xung quanh khoảng 65 và các điểm dữ liệu nằm bên trái khoảng từ 0 đến 30 chiếm tỉ lệ nhỏ\n",
    "- Biểu đồ này không phải ` dạng chuẩn ` vì độ lệch của ba giá trị `mean`, `median` và `mode` khá rõ"
   ]
  },
  {
   "cell_type": "code",
   "execution_count": 14,
   "id": "84004a67",
   "metadata": {},
   "outputs": [
    {
     "data": {
      "image/png": "[encoded data removed]",
      "text/plain": [
       "<Figure size 432x288 with 1 Axes>"
      ]
     },
     "metadata": {
      "needs_background": "light"
     },
     "output_type": "display_data"
    }
   ],
   "source": [
    "plt_hist('writing score')"
   ]
  },
  {
   "cell_type": "markdown",
   "id": "2fc1e7d8",
   "metadata": {},
   "source": [
    "#### Nhận xét về sự phân bố dữ liệu `writing score`\n",
    "\n",
    "Dựa vào biểu đồ trực quan của dữ liệu `writing score`:\n",
    "- Biểu đồ `writing score` khá tương đồng với biểu đồ `reading score`\n",
    "- Sự phân bố của `mean` và `median` cũng lệch so `mode`\n",
    "- Cụ thể là `mean` và `median` nằm về phía bên trái còn `mode` thì nằm về phía bên phải nhưng độ lệch của `mode` so với hai giá trị kia khá xa (Cụ thể `mean` và `median` ở khoảng 65 và `mode` là điểm gần 80)\n",
    "- Biểu đồ này là `Single mode` \n",
    "- Các dữ liệu cũng tập trung xung quanh khoảng 65 và các điểm dữ liệu nằm bên trái khoảng từ 0 đến 30 chiếm tỉ lệ nhỏ => Ở môn `writing` thì các bạn có vẻ khá hơn 1 chút so với 2 môn còn lại, số học sinh gần giỏi nhiều, số học sinh giỏi cũng khá cao > 100 bạn\n",
    "- Biểu đồ này không phải ` dạng chuẩn ` vì độ lệch của ba giá trị `mean`, `median` và `mode` khá rõ"
   ]
  },
  {
   "cell_type": "markdown",
   "id": "9c2bc605",
   "metadata": {},
   "source": [
    "### Với mỗi cột có kiểu dữ liệu dạng phân loại (categorical), các giá trị được phân bố như thế nào?\n",
    "<a class=\"anchor\" id=\"c328\"></a>"
   ]
  },
  {
   "cell_type": "markdown",
   "id": "bca51fb3",
   "metadata": {},
   "source": [
    "#### Cái nhìn tổng quan của các thuộc tính dạng phân loại \n",
    "\n",
    "Đối với các thuộc tính `phân loại (categorical)`, chúng ta sẽ xem xét những thông tin về tính chất của các thuộc tính đó.\n",
    "\n",
    "Chúng ta sẽ dùng phương thức `describe` để có thể xem xét cái thông số tổng quan của thuộc tính `object` bằng cách dùng phương thức `describe` kèm với tham số là `include=object`\n",
    "\n",
    "Chỉ số của kết quả sẽ bao gồm `count (số lượng giá trị)`, `unique (số lượng giá trị khác nhau)`, `top (giá trị xuất hiện nhiều nhất)` và `freq (tần suất của giá trị xuất hiện nhiều nhất)`."
   ]
  },
  {
   "cell_type": "code",
   "execution_count": 15,
   "id": "c5f1d09f",
   "metadata": {},
   "outputs": [
    {
     "data": {
      "text/html": [
       "<div>\n",
       "<style scoped>\n",
       "    .dataframe tbody tr th:only-of-type {\n",
       "        vertical-align: middle;\n",
       "    }\n",
       "\n",
       "    .dataframe tbody tr th {\n",
       "        vertical-align: top;\n",
       "    }\n",
       "\n",
       "    .dataframe thead th {\n",
       "        text-align: right;\n",
       "    }\n",
       "</style>\n",
       "<table border=\"1\" class=\"dataframe\">\n",
       "  <thead>\n",
       "    <tr style=\"text-align: right;\">\n",
       "      <th></th>\n",
       "      <th>count</th>\n",
       "      <th>unique</th>\n",
       "      <th>top</th>\n",
       "      <th>freq</th>\n",
       "      <th>unique_values</th>\n",
       "    </tr>\n",
       "  </thead>\n",
       "  <tbody>\n",
       "    <tr>\n",
       "      <th>gender</th>\n",
       "      <td>1000</td>\n",
       "      <td>2</td>\n",
       "      <td>female</td>\n",
       "      <td>518</td>\n",
       "      <td>[female, male]</td>\n",
       "    </tr>\n",
       "    <tr>\n",
       "      <th>race/ethnicity</th>\n",
       "      <td>1000</td>\n",
       "      <td>5</td>\n",
       "      <td>group C</td>\n",
       "      <td>319</td>\n",
       "      <td>[group A, group B, group C, group D, group E]</td>\n",
       "    </tr>\n",
       "    <tr>\n",
       "      <th>parental level of education</th>\n",
       "      <td>1000</td>\n",
       "      <td>6</td>\n",
       "      <td>some college</td>\n",
       "      <td>226</td>\n",
       "      <td>[associate's degree, bachelor's degree, high s...</td>\n",
       "    </tr>\n",
       "    <tr>\n",
       "      <th>lunch</th>\n",
       "      <td>1000</td>\n",
       "      <td>2</td>\n",
       "      <td>standard</td>\n",
       "      <td>645</td>\n",
       "      <td>[free/reduced, standard]</td>\n",
       "    </tr>\n",
       "    <tr>\n",
       "      <th>test preparation course</th>\n",
       "      <td>1000</td>\n",
       "      <td>2</td>\n",
       "      <td>none</td>\n",
       "      <td>642</td>\n",
       "      <td>[completed, none]</td>\n",
       "    </tr>\n",
       "  </tbody>\n",
       "</table>\n",
       "</div>"
      ],
      "text/plain": [
       "                            count unique           top freq  \\\n",
       "gender                       1000      2        female  518   \n",
       "race/ethnicity               1000      5       group C  319   \n",
       "parental level of education  1000      6  some college  226   \n",
       "lunch                        1000      2      standard  645   \n",
       "test preparation course      1000      2          none  642   \n",
       "\n",
       "                                                                 unique_values  \n",
       "gender                                                          [female, male]  \n",
       "race/ethnicity                   [group A, group B, group C, group D, group E]  \n",
       "parental level of education  [associate's degree, bachelor's degree, high s...  \n",
       "lunch                                                 [free/reduced, standard]  \n",
       "test preparation course                                      [completed, none]  "
      ]
     },
     "execution_count": 15,
     "metadata": {},
     "output_type": "execute_result"
    }
   ],
   "source": [
    "obj_col = list(df.select_dtypes(['object']).columns)\n",
    "des = df[obj_col].describe(include=object).T\n",
    "out = df[obj_col].agg(np.unique)\n",
    "des.assign(unique_values = out)"
   ]
  },
  {
   "cell_type": "markdown",
   "id": "143a2a7f",
   "metadata": {},
   "source": [
    "#### Nhận xét:\n",
    "- Ta có 5 cột dữ liệu phân loại (categorical), số lượng dòng của mỗi cột đều là 1000 dòng.\n",
    "- Với thuộc tính `gender`, ta có 2 giá trị khác biệt là `male` và `female`\n",
    "- Với thuộc tính `race/ethnicity`, có 5 thuộc tính khác biệt là `group A`, `group_B`, `group_C`, `group_D`, `group_E`\n",
    "- Với thuộc tính `parental level of education`, ta có 6 thuộc tính khác biệt là `associate's degree`, `bachelor's degree`, `high school`, ...\n",
    "- Với thuộc tính `lunch`, ta có 2 thuộc tính khác biệt là `free/reduced` và `standard`\n",
    "- Thuộc tính cuối cùng `test preparation course`, ta có 2 thuộc tính khác biệt là `completed` và `none`"
   ]
  },
  {
   "cell_type": "markdown",
   "id": "86719f5d",
   "metadata": {},
   "source": [
    "#### Với mỗi thuộc tính, sự phân bố của các giá trị như thế nào ?\n",
    "\n",
    "Để có cái nhìn chi tiết hơn về một thuộc tính `phân loại (categorical)`. Ở phần này, chúng ta sẽ sử dụng các biểu đồ (chart) để miêu tả các thông tin, cũng như sẽ giúp chúng ta quan sát được các giá trị một cách rõ ràng và hiểu sâu hơn.\n",
    "\n",
    "Với việc so sánh các thuộc tính `phân loại (categorical)`, biểu đồ dạng `bar chart` phù hợp nhất cho việc so sánh các giá trị. \n",
    "\n",
    "Do đó, chúng ta sẽ xây dựng hàm `plot_bar` bao gồm các tham số như:\n",
    "- `df` - Giá trị đầu vào để thể hiện biểu đồ\n",
    "- `title` - Tên của biểu đồ\n",
    "- `xlabel` - Tên của trục hoành\n",
    "- `ylabel` - Tên của trục tung\n",
    "- `orient` - Có 2 loại là: biểu đồ `bar` ngang và dọc (tương ứng với 'h' và 'v')"
   ]
  },
  {
   "cell_type": "code",
   "execution_count": 16,
   "id": "6ae2c32f",
   "metadata": {},
   "outputs": [],
   "source": [
    "def plot_bar(df, title, xlabel, ylabel, orient):\n",
    "    plt.figure(figsize=(8,6))\n",
    "    \n",
    "    if orient == 'v':\n",
    "        ax = sns.barplot(x=df.index, y=df.values, orient='v')\n",
    "    else:\n",
    "        ax = sns.barplot(x=df.values, y=df.index, orient='h')\n",
    "    \n",
    "    rects = ax.patches\n",
    "    ax.set_title(title)\n",
    "    ax.set_xlabel(xlabel=xlabel)\n",
    "    ax.set_ylabel(ylabel=ylabel)\n",
    "    \n",
    "    if orient == 'h':\n",
    "        for rect, value in zip(rects, df.values):\n",
    "            width = rect.get_width()\n",
    "            plt.text(1.025*rect.get_width(), rect.get_y()+0.5*rect.get_height(),\n",
    "                     value,\n",
    "                     ha='center', va='center')\n",
    "    else:\n",
    "        for rect, value in zip(rects, df.values):\n",
    "            height = rect.get_height()\n",
    "            ax.text(\n",
    "                rect.get_x() + rect.get_width() / 2, height + 5, value, ha=\"center\", va=\"bottom\"\n",
    "            )"
   ]
  },
  {
   "cell_type": "markdown",
   "id": "5f8df414",
   "metadata": {},
   "source": [
    "#### Thuộc tính `Gender`"
   ]
  },
  {
   "cell_type": "code",
   "execution_count": 17,
   "id": "372f7f68",
   "metadata": {
    "scrolled": false
   },
   "outputs": [
    {
     "data": {
      "image/png": "[encoded data removed]",
      "text/plain": [
       "<Figure size 576x432 with 1 Axes>"
      ]
     },
     "metadata": {
      "needs_background": "light"
     },
     "output_type": "display_data"
    }
   ],
   "source": [
    "gender_counts = df.gender.value_counts()\n",
    "plot_bar(gender_counts, 'Phân bố của giới tính', 'Giới tính', 'Số lượng', 'v')"
   ]
  },
  {
   "cell_type": "markdown",
   "id": "c4e12e6a",
   "metadata": {},
   "source": [
    "#### Nhận xét\n",
    "\n",
    "Số lượng nữ nhiều hơn số lượng nam trong dữ liệu này.\n",
    "- Số lượng nữ là 518 người\n",
    "- Số lượng nam là 482 người\n",
    "\n",
    "Số lượng của 2 giới tính khá đồng đều (có chênh lệch 1 tí nhưng không sao) => Nếu có áp dụng cho mô hình học máy thì cũng đảm bảo được chất lượng của mô hình\n",
    "\n",
    "Đối với thuộc tính `giới tính`, em lại muốn kể một câu chuyện về gia đình em. Gia đình em là một gia đình bình thường (không khá giả gì mấy), em sống chung với mẹ em và chị. Khi lúc còn học tiểu học, em cũng thuộc loại `thứ dữ (làm lớp trưởng và học lực đứng nhất lớp :)) )` và mẹ em hay kể với các cô chú hàng xóm rằng `con tui nó làm lớp trưởng đó, nó là con trai mà học giỏi hơn con gái` (theo quan niệm thời xa xưa thì con gái có những tính chất cẩn thận, siêng năng, cần cù, chăm ngoan, lễ phép, ... Gần như mọi thứ đều được hoàn quyện vào con gái ??)\n",
    "\n",
    "Em cũng thắc mắc, và có hỏi mẹ sao mẹ hay nói như thế. Mẹ em trả lời rằng điều đó là thực tế mà...\n",
    "\n",
    "Vậy ở dữ liệu của chúng ta, khá phù hợp để em có thể giải đáp thắc mắc `con trai hay con gái học giỏi hơn ?` và câu hỏi dài đằng đẵng mấy năm trời của em có thể tìm được câu trả lời... `(trả lời ở câu hỏi thứ 2)`"
   ]
  },
  {
   "cell_type": "markdown",
   "id": "de9c18d4",
   "metadata": {},
   "source": [
    "#### Thuộc tính `Race/ethnicity`"
   ]
  },
  {
   "cell_type": "code",
   "execution_count": 18,
   "id": "d353c50d",
   "metadata": {
    "scrolled": false
   },
   "outputs": [
    {
     "data": {
      "image/png": "[encoded data removed]",
      "text/plain": [
       "<Figure size 576x432 with 1 Axes>"
      ]
     },
     "metadata": {
      "needs_background": "light"
     },
     "output_type": "display_data"
    }
   ],
   "source": [
    "race_counts = df['race/ethnicity'].value_counts()\n",
    "plot_bar(race_counts, 'Phân bố của chủng tộc', 'Số lượng', 'Chủng tộc', 'h')"
   ]
  },
  {
   "cell_type": "markdown",
   "id": "a24e6f72",
   "metadata": {},
   "source": [
    "#### Nhận xét\n",
    "\n",
    "Nhìn vào biểu đồ `horizontal bar` của thuộc tính `Chủng tộc`:\n",
    "- `Group C` là nhóm chiếm đa số học sinh nhất (319 người)\n",
    "- `Group A` là nhóm có ít học sinh nhất (89 người)"
   ]
  },
  {
   "cell_type": "markdown",
   "id": "a24e5b4e",
   "metadata": {},
   "source": [
    "#### Thuộc tính `Parental level of education`"
   ]
  },
  {
   "cell_type": "code",
   "execution_count": 19,
   "id": "10f63429",
   "metadata": {},
   "outputs": [
    {
     "data": {
      "image/png": "[encoded data removed]",
      "text/plain": [
       "<Figure size 576x432 with 1 Axes>"
      ]
     },
     "metadata": {
      "needs_background": "light"
     },
     "output_type": "display_data"
    }
   ],
   "source": [
    "edu_counts = df['parental level of education'].value_counts()\n",
    "plot_bar(edu_counts, 'Phân bố của trình độ học vấn của phụ huynh', 'Số lượng', 'Trình độ học vấn', 'h')"
   ]
  },
  {
   "cell_type": "markdown",
   "id": "47f63925",
   "metadata": {},
   "source": [
    "#### Nhận xét\n",
    "\n",
    "Chúng ta sẽ xem biểu đồ và trả lời cho câu hỏi `Trình độ học vấn của phụ huynh học sinh phân bố như thế nào ?`\n",
    "\n",
    "Có thể thấy, đa số phụ huynh của học sinh có bằng `đại học (226 người)` và `cao đẳng (222 người)` chiếm đa số khoảng 50% tổng số phụ huynh học sinh. Có khoảng `59 phụ huynh` có bằng `master (giáo sư)` (vậy đứa con cũng đáng gờm lắm ? :D) và khoảng `118 phụ huynh` có bằng `bachelor (cử nhân)` (Bằng đại học bây giờ là cử nhân rồi ?) \n",
    "\n",
    "Vậy cuối cùng, chúng ta có thể thấy trình độ của phụ huynh đa số là `bằng đại học` (có kiến thức và văn hóa) và một số ít phụ huynh có `bằng trung cấp`. Có thể thực tế này ảnh hưởng đến khả năng học tập của các con hay không ? (Chúng ta sẽ hiểu cùng tìm hiểu thông qua `câu hỏi thứ nhất của bạn Ân nhé `)"
   ]
  },
  {
   "cell_type": "markdown",
   "id": "173af640",
   "metadata": {},
   "source": [
    "#### Thuộc tính `lunch`"
   ]
  },
  {
   "cell_type": "code",
   "execution_count": 20,
   "id": "d3eba061",
   "metadata": {},
   "outputs": [
    {
     "data": {
      "image/png": "[encoded data removed]",
      "text/plain": [
       "<Figure size 576x432 with 1 Axes>"
      ]
     },
     "metadata": {
      "needs_background": "light"
     },
     "output_type": "display_data"
    }
   ],
   "source": [
    "lunch_counts = df.lunch.value_counts()\n",
    "plot_bar(lunch_counts, 'Phân bố của suất ăn', 'Số lượng', 'Suất ăn', 'v')"
   ]
  },
  {
   "cell_type": "markdown",
   "id": "ed86cb43",
   "metadata": {},
   "source": [
    "#### Nhận xét\n",
    "\n",
    "`Câu chuyện hồi còn bé thơ:`\n",
    "\n",
    "Nhớ lại thời còn đi học tiểu học của em, một ngày em được mẹ cho 5 ngàn để ăn trong trường lúc ra chơi thì em chỉ mua được một ly nước ngọt thì đã hết tiền. Thời đó lớp em có mấy đứa bạn nhà cũng khá giả, ra chơi tụi bạn mua được nhiều đồ ăn hơn, nào là bánh, kẹo, bánh tráng, nước ngọt.... Lúc đó em lại cảm thấy tự ti, cảm nhận được sự chênh lệch giàu nghèo giữa những đứa bạn trong lớp (Một tâm lý khá ngây thơ và trong sáng lúc bấy giờ). Nhưng thật sự em thấy rằng, nhà đứa nào nghèo thường hay học giỏi, và ngược lại (có thể đụng chạm nhiều người... nhưng đây là cái sự thật em thấy trong xã hội)\n",
    "\n",
    "Ở các vùng quê nghèo khó, đa số là những bạn nhân tài và ưu tú, dù không đầy đủ về điều kiện vật chất, tinh thần nhưng các bạn thật sự cố gắng để vươn lên, với ước mơ có thể thoát khỏi `cái nghèo`. Điều đó cũng được thể hiện qua nhiều tấm gương nổi bật như: `anh Nguyễn Ngọc Ký `, `Bác Hồ chủ tịch`, và nhiều tấm gương tiêu biểu được lên báo, ...\n",
    "\n",
    "Do đó, chúng ta cũng sẽ giải đáp thực sự liệu `món ăn vật chất` có ảnh hưởng đến kết quả học tập của các em học sinh không ? `(giải đáp sẽ được trả lời ở câu hỏi thứ nhất)`"
   ]
  },
  {
   "cell_type": "markdown",
   "id": "16e51d30",
   "metadata": {},
   "source": [
    "### Đưa ra câu hỏi có ý nghĩa cần trả lời <a class=\"anchor\" id=\"c33\"></a>"
   ]
  },
  {
   "cell_type": "markdown",
   "id": "8de69c14",
   "metadata": {},
   "source": [
    "**Câu 2**: Xem xét học lực của giới tính nam và nữ, liệu giới tính có phải là yếu tố liên quan đến học vấn hay không ? Còn yếu tố nào khác tác động đến lực học ?"
   ]
  },
  {
   "cell_type": "markdown",
   "id": "2d2fac6e",
   "metadata": {},
   "source": [
    "### Xử lý và phân tích dữ liệu để trả lời câu hỏi\n",
    "\n",
    "Trước tiên, để dễ dàng so sánh điểm số của các bạn học sinh, chúng ta sẽ chuyển điểm từ thang 100 sang thang `GPA (Grade Point Average)` để thuận tiện việc so sánh bên dưới\n",
    "\n",
    "Câu hỏi chúng ta đặt ra là `Liệu giới tính có ảnh hưởng gì đến học vấn của các bạn học sinh hay không ?`, để có thể trả lời được cho câu hỏi đó, chúng ta sẽ xem xét phần trăm mức độ điểm của hai nhóm giới tính nam và nữ sẽ phân bố như thế nào so với tổng thể bằng cách dùng biểu đồ `100% Stacked Bar Chart`.\n",
    "\n",
    "Chưa dừng ở đó, liệu số phận đã an bài khi chúng ta mang hình hài là nam hay nữ ? Còn yếu tố nào khác tác động đến học vấn của các em hay không ? Chúng ta sẽ tìm hiểu và trả lời cho các câu hỏi đó..."
   ]
  },
  {
   "cell_type": "code",
   "execution_count": 21,
   "id": "41e43157",
   "metadata": {},
   "outputs": [],
   "source": [
    "def stacked_bar(field_1, field_2, title, xlabel, ylabel, one_hr):\n",
    "    if one_hr: \n",
    "        ax= pd.crosstab(field_1, [field_2]).apply(lambda r: r/r.sum()*100, axis=1)\n",
    "    else:\n",
    "        ax= pd.crosstab(field_1, [field_2])\n",
    "    ax_1 = ax.plot.bar(figsize=(20,10), stacked=True)\n",
    "\n",
    "    plt.legend(loc='upper center', bbox_to_anchor=(0.1, 1.0))\n",
    "\n",
    "    plt.title(title)\n",
    "    plt.xlabel(xlabel)\n",
    "    plt.ylabel(ylabel)\n",
    "    \n",
    "    if one_hr:\n",
    "        for rec in ax_1.patches:\n",
    "            height = rec.get_height()\n",
    "            ax_1.text(rec.get_x() + rec.get_width() / 2, \n",
    "                      rec.get_y() + height / 2,\n",
    "                      \"{:.0f}%\".format(height),\n",
    "                      ha='center', \n",
    "                      va='bottom')"
   ]
  },
  {
   "cell_type": "markdown",
   "id": "ca7260e2",
   "metadata": {},
   "source": [
    "### Điểm GPA phân bố giữa nam và nữ trong tổng thể"
   ]
  },
  {
   "cell_type": "code",
   "execution_count": 22,
   "id": "577d331c",
   "metadata": {},
   "outputs": [],
   "source": [
    "convertor = {'A': 90, 'B': 80, 'C': 70, 'D': 60}\n",
    "\n",
    "def gpa_convert(score):\n",
    "    for grade, threshold in convertor.items():\n",
    "        if score >= threshold:\n",
    "            return grade\n",
    "    return 'F'\n",
    "    \n",
    "df[\"math GPA\"] = df[\"math score\"].apply(lambda x : gpa_convert(x))\n",
    "df[\"reading GPA\"] = df[\"reading score\"].apply(lambda x : gpa_convert(x))\n",
    "df[\"writing GPA\"] = df[\"writing score\"].apply(lambda x : gpa_convert(x))"
   ]
  },
  {
   "cell_type": "code",
   "execution_count": 23,
   "id": "9d63d289",
   "metadata": {},
   "outputs": [
    {
     "data": {
      "image/png": "[encoded data removed]",
      "text/plain": [
       "<Figure size 1440x720 with 1 Axes>"
      ]
     },
     "metadata": {
      "needs_background": "light"
     },
     "output_type": "display_data"
    }
   ],
   "source": [
    "stacked_bar(df['gender'], df['math GPA'],\\\n",
    "            'Điểm GPA phân bố giữa nam và nữ trong tổng thể', 'Giới tính', 'Phần trăm', True)"
   ]
  },
  {
   "cell_type": "markdown",
   "id": "abd60c4f",
   "metadata": {},
   "source": [
    "#### Nhận xét\n",
    "\n",
    "Trong phần nhỏ đây, chúng ta sẽ tìm hiểu cho câu trả lời `Điểm GPA phân bố giữa nam và nữ trong tổng thể ?`\n",
    "\n",
    "Dựa vào kết quả trực quan, ta thấy được ở `giới tính nữ`:\n",
    "- Phần trăm điểm loại F chiếm đa số trong tổng thể (38%)\n",
    "- Chỉ vỏn vẹn 4% học sinh đạt loại A\n",
    "\n",
    "Và có nhận xét với `giới tính nam`:\n",
    "- Phần trăm điểm D và F bằng nhau là 26% trong tổng thể\n",
    "- Loại giỏi A chiếm 7% so với tổng thể\n",
    "\n",
    "Từ hai biểu đồ trực quan ta thấy giữa nam và nữ có mức độ chêch lệch về loại điểm số. Nam có vẻ học giỏi hơn nữ, phần trăm loại giỏi của nam hơn nữ 1 chút và phần trăm loại kém ở nam cũng ít hơn khá nhiều so với nữ. Tại sao kết quả điểm số của nam lại tốt hơn nữ, trong khi nữ lại có vẻ chăm chỉ và siêng năng hơn học sinh nam ???\n",
    "\n",
    "Có một vài [nghiên cứu](https://khoahoc.tv/con-gai-va-con-trai-ai-hoc-gioi-hon-56278) mới đây đã chỉ ra rằng, học sinh nữ học giỏi và đạt điểm số cao hơn học sinh nam. Nghiên cứu này được thực hiện bởi hai nhà tâm lý học Daniel và Susan Voyer thuộc trường ĐH New Brunswick. Các chuyên gia kết luận rằng, học sinh nữ đạt điểm cao hầu hết các môn học vượt trội hơn các bạn học sinh nam. \n",
    "\n",
    "Vậy thì tại sao kết quả trực quan phía trên cho thấy điều ngược lại, có thể dữ liệu của chúng ta quá bé. Nhưng để hiểu rõ hơn vấn đề đó, ta tìm hiểu `mức độ chuẩn bị bài trước khi thi` của các bạn học sinh, nó có vẻ tác động trực tiếp đến điểm số của các em ?"
   ]
  },
  {
   "cell_type": "markdown",
   "id": "6b52754e",
   "metadata": {},
   "source": [
    "### Mức độ chuẩn bị bài trước khi thi giữa nam và nữ"
   ]
  },
  {
   "cell_type": "code",
   "execution_count": 24,
   "id": "3b3ae9da",
   "metadata": {},
   "outputs": [
    {
     "data": {
      "image/png": "[encoded data removed]",
      "text/plain": [
       "<Figure size 1440x720 with 1 Axes>"
      ]
     },
     "metadata": {
      "needs_background": "light"
     },
     "output_type": "display_data"
    }
   ],
   "source": [
    "stacked_bar(df['gender'], df['test preparation course'],\\\n",
    "            'Mức độ chuẩn bị bài trước khi thi giữa nam và nữ', 'Giới tính', 'Số lượng', False)"
   ]
  },
  {
   "cell_type": "code",
   "execution_count": 25,
   "id": "aec370d0",
   "metadata": {},
   "outputs": [
    {
     "data": {
      "image/png": "[encoded data removed]",
      "text/plain": [
       "<Figure size 1440x720 with 1 Axes>"
      ]
     },
     "metadata": {
      "needs_background": "light"
     },
     "output_type": "display_data"
    }
   ],
   "source": [
    "stacked_bar(df['gender'], df['test preparation course'],\\\n",
    "            'Phần trăm mức độ chuẩn bị bài trước khi thi giữa nam và nữ', 'Giới tính', 'Phần trăm', True)"
   ]
  },
  {
   "cell_type": "markdown",
   "id": "078ef0d5",
   "metadata": {},
   "source": [
    "#### Nhận xét\n",
    "\n",
    "Ở biểu đồ thứ hai - Phần trăm mức độ chuẩn bị bài trước khi thi giữa nam và nữ, ta thấy ở nữ có 36% học sinh đã chuẩn bị bài, và 64% học sinh chưa chuẩn bị bài, vậy có hơn một nửa lớp chưa chuẩn bị bài. Từ đây có thể thấy cha mẹ thật sự chưa quan tâm đến vấn đề học tập của con cái ? Ở các bạn nam, biểu đồ cũng tương tự như các bạn nữa, có hơn một nửa lớp chưa chuẩn bị bài cho kì kiểm tra.\n",
    "\n",
    "Cả hai biểu đồ cho thấy sự tương đương nhau về mức độ chuẩn bị bài trước kì thi, nhưng tỉ lệ điểm của nam lại tốt hơn so với nữ ? Có thể nam thông minh hơn nữ chăng (không học bài nhưng vẫn có điểm trên trung bình ?) Kết quả cho thấy không đúng như kết quả nghiên cứu của một số chuyên gia.\n",
    "\n",
    "Qua [nghiên cứu](https://khoahoc.tv/con-gai-va-con-trai-ai-hoc-gioi-hon-56278), các chuyên gia nhận thấy, các bé gái phát triển nhanh hơn một năm so với các bé trai trong mọi yếu tố ở khả năng tự điều chỉnh bản thân. Kết thúc lớp mẫu giáo, các bé trai mới bắt đầu đạt được những kĩ năng mà bé gái đã có từ đầu năm.\n",
    "\n",
    "Những bé gái tiếp tục thể hiện sự vượt trội của mình ở khả năng này khi vào trung học và xa hơn nữa. Trong một nghiên cứu năm 2006, Martin Seligman và Angela Lee Duckworth nhận ra những nữ sinh trung học có khả năng tự giác kỷ luật hơn nhiều so với nam sinh cùng lứa tuổi.\n",
    "\n",
    "Điều này đóng góp rất nhiều vào điểm số của nữ sinh ở tất cả các môn học. Những cô gái thể hiện khả năng tốt hơn ở việc “đọc hướng dẫn trước khi làm bài”, “chú ý giáo viên giảng hơn là ngồi mơ mộng”, “làm bài tập hơn là xem TV”, “tính kiên nhẫn khi làm những bài tập dài”...\n",
    "\n",
    "Vậy chúng ta sẽ xem xét thử xem còn khía cạnh nào ảnh hưởng đến việc các bé nam giỏi hơn các bé nữ như kết quả trực quan của chúng ta hay không ? Yếu tố học vấn của cha mẹ có lẽ tác động phần nào đối với sự thông minh và nhanh nhẹn của các con chăng ? Chúng ta thử tìm hiểu thông qua `trình độ học vấn của phụ huynh các bạn nam so với trình độ học vấn của phụ huynh các bạn nữ`."
   ]
  },
  {
   "cell_type": "markdown",
   "id": "fa599ea9",
   "metadata": {},
   "source": [
    "### Trình độ học vấn của phụ huynh các bạn nam và trình độ học vấn của phụ huynh các bạn nữ"
   ]
  },
  {
   "cell_type": "code",
   "execution_count": 26,
   "id": "0210fb3b",
   "metadata": {
    "scrolled": false
   },
   "outputs": [
    {
     "data": {
      "image/png": "[encoded data removed]",
      "text/plain": [
       "<Figure size 1440x720 with 1 Axes>"
      ]
     },
     "metadata": {
      "needs_background": "light"
     },
     "output_type": "display_data"
    }
   ],
   "source": [
    "stacked_bar(df['gender'], df['parental level of education'],\\\n",
    "            'Trình độ học vấn của phụ huynh các bạn nam và trình độ học vấn của phụ huynh các bạn nữ',\\\n",
    "            'Giới tính', 'Phần trăm', True)"
   ]
  },
  {
   "cell_type": "markdown",
   "id": "f8167099",
   "metadata": {},
   "source": [
    "#### Nhận xét\n",
    "\n",
    "Dựa vào sự phân bố tổng thể của trình độ học vấn của phụ huynh các bạn học sinh nam và nữ, ta vẫn thấy cả hai biểu đồ thể hiện sự tương tự nhau. Môi trường mà các bạn học sinh học, cũng phần nào đó ảnh hưởng đến trí tuệ và năng lực học nhưng không phải là yếu tố chính. \n",
    "\n",
    "Ngoài ra, chưa chắc cha mẹ giỏi thì đứa con cũng giỏi, cha mẹ giỏi thường bận hơn và không quan tâm đến vấn đề học của con cái và cha mẹ có trình độ học vấn không cao thì không thể hướng dẫn con học và trăm sự nhờ môi trường học đường như thầy cô, bạn bè ? \n",
    "\n",
    "Theo em nghĩ còn nhiều vấn đề tác động đến năng lực của các bạn học sinh nữa, ví dụ như là sự quan tâm, cách dạy học, thời gian ngủ nghỉ, yếu tố vật chất, yếu tố tính thần, ...\n",
    "\n",
    "Nhưng đây chỉ là dữ liệu trên 1000 mẫu học sinh, chưa có thể khẳng định đúng cho nghiên cứu của chúng ta `Giới tính nam hay nữ sẽ giỏi hơn`. Nhưng từ dữ liệu trên, ta cũng có thể thấy một phần ý nghĩa nào đó trên mẫu dữ liệu của chúng ta, đó cũng là hồi chuông cảnh báo cho mức độ học xa sút của các bạn kém, cha mẹ nên quan tâm vấn đề học của con cái nhiều hơn."
   ]
  },
  {
   "cell_type": "markdown",
   "id": "796ec3dc",
   "metadata": {},
   "source": [
    "#### Ý nghĩa\n",
    "\n",
    "Qua việc tìm hiểu và nghiên cứu sự tác động của giới tính, tính cách giữa nam và nữ cho thấy sự quan tâm cũng như có biện pháp giáo dục thích hợp cho các mầm non của đất nước. Nhờ vào những nghiên cứu, tính cách của các bé trai được xem xét và quan tâm hơn để các phụ huynh, nhà trường và thầy cô có cách giáo dục phù hợp hơn, tạo động lực và khuyến khích để bộc lộ những phẩm chất tốt đẹp của trẻ.\n",
    "\n",
    "Theo em thì mỗi người đều có khả năng giỏi như nhau, không phân biệt giới tính và tuổi tác. Mỗi người đều phát triển bình đẳng về mặt trí tuệ lẫn thể xác, cách giáo dục thích hợp và đúng đắn cho các bé từ nhỏ là thật sự cần thiết. Người xưa có câu: \"dạy con từ thuở còn thơ\", \"Trẻ em như búp trên cành\", tất cả đều thể hiện trẻ em là những tờ giấy trắng, tinh khôi, muốn trang giấy đẹp, trang giấy thơm thì chúng ta phải biết viết, biết giữ gìn nâng niu cũng như những đứa trẻ phải được dạy dỗ, bảo vệ và phát triển trong môi trường tốt nhất.\n",
    "\n",
    "Vài ngày qua có một tin báo đang buồn, bé V.A ở quận Bình Thạnh bị mẹ ghẻ bạo hành đến tử vong... Đó là hồi chuông cảnh báo cho sự thờ ơ của mọi người xung quanh, sự tàn độc của mụ dì ghẻ và người cha ruột. Pháp luật phải được khắt khe hơn về quyền và lợi ích của trẻ em, triển khai và phối hợp thực hiện công tác bảo vệ trẻ em, phòng ngừa, xử lý các vụ việc xâm hại trẻ em trên mọi lãnh thổ Việt Nam."
   ]
  },
  {
   "cell_type": "markdown",
   "id": "c3f6f7ee",
   "metadata": {},
   "source": [
    "## Nguồn tham khảo <a class=\"anchor\" id=\"c4\"></a>"
   ]
  }
 ],
 "metadata": {
  "kernelspec": {
   "display_name": "Python 3 (ipykernel)",
   "language": "python",
   "name": "python3"
  },
  "language_info": {
   "codemirror_mode": {
    "name": "ipython",
    "version": 3
   },
   "file_extension": ".py",
   "mimetype": "text/x-python",
   "name": "python",
   "nbconvert_exporter": "python",
   "pygments_lexer": "ipython3",
   "version": "3.9.7"
  }
 },
 "nbformat": 4,
 "nbformat_minor": 5
}

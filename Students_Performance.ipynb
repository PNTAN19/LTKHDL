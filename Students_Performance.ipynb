{
 "cells": [
  {
   "cell_type": "markdown",
   "id": "a5126d71",
   "metadata": {},
   "source": [
    "# <center>Đồ Án Cuối Kì</center>"
   ]
  },
  {
   "cell_type": "markdown",
   "id": "d7396885",
   "metadata": {},
   "source": [
    "## Mục lục\n",
    "* [Danh sách thành viên](#c1)\n",
    "* [Cách chạy Project](#c2)\n",
    "* [Nội dung](#c3)\n",
    "    * [Thu thập dữ liệu](#c31)\n",
    "        * [Chủ đề dữ liệu của bạn là gì? Nguồn lấy từ đâu?](#c311)\n",
    "        * [Bạn có được quyền sử dụng dữ liệu từ tác giả hay không?](#c312)\n",
    "        * [Tác giả thu thập dữ liệu như thế nào?](#c313)\n",
    "    * [Khám phá dữ liệu](#c32)\n",
    "        * [Dữ liệu có bao nhiêu dòng và bao nhiêu cột?](#c321)\n",
    "        * [Mỗi dòng có ý nghĩa gì? Có vấn đề các dòng có ý nghĩa khác nhau không?](#c322)\n",
    "        * [Dữ liệu có các dòng bị lặp không?](#c323)\n",
    "        * [Mỗi cột có ý nghĩa gì?](#c324)\n",
    "        * [Mỗi cột hiện đang có kiểu dữ liệu gì? Có cột nào có kiểu dữ liệu chưa phù hợp để có thể xử lý tiếp không?](#c325)\n",
    "        * [Với mỗi cột có kiểu dữ liệu dạng số (numeric), các giá trị được phân bố như thế nào?](#c325)\n",
    "        * [Với mỗi cột có kiểu dữ liệu dạng phân loại (categorical), các giá trị được phân bố như thế nào?](#c326)\n",
    "    * [Đưa ra câu hỏi có ý nghĩa cần trả lời](#c33)\n",
    "* [Nguồn tham khảo](#c4)"
   ]
  },
  {
   "cell_type": "markdown",
   "id": "a2cf6f65",
   "metadata": {},
   "source": [
    "## Danh sách thành viên <a class=\"anchor\" id=\"c1\"></a>\n",
    "\n",
    "STT&emsp;&emsp;&emsp;&emsp;&emsp;&emsp;Thông tin sinh viên&emsp;&emsp;&emsp;&emsp;&emsp;&emsp;&emsp;&emsp;&emsp;&ensp;Github username\n",
    "<br>\n",
    "1&emsp;&emsp;&emsp;&emsp;&emsp;&emsp;&emsp;&nbsp;Phạm Ngọc Thiên Ân - 19127094&emsp;&emsp;&emsp;&ensp;PNTAN19\n",
    "<br>\n",
    "2&emsp;&emsp;&emsp;&emsp;&emsp;&emsp;&emsp;&nbsp;Phan Vĩ Giai - 19127639&emsp;&emsp;&emsp;&emsp;&emsp;&emsp;&emsp;&nbsp;owfdataboy"
   ]
  },
  {
   "cell_type": "markdown",
   "id": "f887cc8c",
   "metadata": {},
   "source": [
    "## CÁCH CHẠY PROJECT <a class=\"anchor\" id=\"c2\"></a>\n",
    "**Chọn Kernel -> Restart & Run All**"
   ]
  },
  {
   "cell_type": "markdown",
   "id": "d6e94417",
   "metadata": {},
   "source": [
    "## Nội dung <a class=\"anchor\" id=\"c3\"></a>"
   ]
  },
  {
   "cell_type": "markdown",
   "id": "050cc725",
   "metadata": {},
   "source": [
    "### Import các thư viện cần thiết"
   ]
  },
  {
   "cell_type": "code",
   "execution_count": 1,
   "id": "73518b28",
   "metadata": {},
   "outputs": [],
   "source": [
    "import numpy as np\n",
    "import pandas as pd\n",
    "import seaborn as sns\n",
    "import matplotlib.pyplot as plt"
   ]
  },
  {
   "cell_type": "markdown",
   "id": "b1498f01",
   "metadata": {},
   "source": [
    "### Đọc dữ liệu vào DataFrame"
   ]
  },
  {
   "cell_type": "code",
   "execution_count": 2,
   "id": "e7ad63b4",
   "metadata": {},
   "outputs": [],
   "source": [
    "df = pd.read_csv(\"StudentsPerformance.csv\")"
   ]
  },
  {
   "cell_type": "markdown",
   "id": "2759d190",
   "metadata": {},
   "source": [
    "### Thu thập dữ liệu <a class=\"anchor\" id=\"c31\"></a>"
   ]
  },
  {
   "cell_type": "markdown",
   "id": "0579e576",
   "metadata": {},
   "source": [
    "### Chủ đề dữ liệu của bạn là gì? Nguồn lấy từ đâu? <a class=\"anchor\" id=\"c311\"></a>"
   ]
  },
  {
   "cell_type": "markdown",
   "id": "a48ae385",
   "metadata": {},
   "source": [
    "Trong đồ án này, nhóm em sẽ thực hiện phân tích dữ liệu về \"Những tác nhân tác động lên điểm số của học sinh\" ở nước Mỹ.\n",
    "\n",
    "Dữ liệu tên là \"Students Performance in Exams\" của tác giả Jakki Seshapanpu, ông sinh sống tại Ấn độ.\\\n",
    "Dữ liệu được tác giả public trên Kaggle.com, được download [tại đây](https://www.kaggle.com/spscientist/students-performance-in-exams)."
   ]
  },
  {
   "cell_type": "markdown",
   "id": "fe17780e",
   "metadata": {},
   "source": [
    "### Bạn có được quyền sử dụng dữ liệu từ tác giả hay không? <a class=\"anchor\" id=\"c312\"></a>"
   ]
  },
  {
   "cell_type": "markdown",
   "id": "29e08ceb",
   "metadata": {},
   "source": [
    "### Tác giả thu thập dữ liệu như thế nào? <a class=\"anchor\" id=\"c313\"></a>"
   ]
  },
  {
   "cell_type": "markdown",
   "id": "e8293eb9",
   "metadata": {},
   "source": [
    "### Khám phá dữ liệu <a class=\"anchor\" id=\"c32\"></a>"
   ]
  },
  {
   "cell_type": "markdown",
   "id": "a9b76752",
   "metadata": {},
   "source": [
    "### Dữ liệu có bao nhiêu dòng và bao nhiêu cột? <a class=\"anchor\" id=\"c321\"></a>"
   ]
  },
  {
   "cell_type": "code",
   "execution_count": 3,
   "id": "31a61213",
   "metadata": {},
   "outputs": [
    {
     "data": {
      "text/plain": [
       "(1000, 8)"
      ]
     },
     "execution_count": 3,
     "metadata": {},
     "output_type": "execute_result"
    }
   ],
   "source": [
    "df.shape"
   ]
  },
  {
   "cell_type": "markdown",
   "id": "c6bd0fc5",
   "metadata": {},
   "source": [
    "Dữ liệu gồm 1000 dòng (tương đương với 1000 học sinh) và 8 cột (8 trường dữ liệu)"
   ]
  },
  {
   "cell_type": "markdown",
   "id": "81aaf54a",
   "metadata": {},
   "source": [
    "### Mỗi dòng có ý nghĩa gì? Có vấn đề các dòng có ý nghĩa khác nhau không? <a class=\"anchor\" id=\"c322\"></a>"
   ]
  },
  {
   "cell_type": "markdown",
   "id": "51af2488",
   "metadata": {},
   "source": [
    "Theo file mô tả dữ liệu và theo quan sát sơ bộ về dữ liệu thì một dòng cho biết thông tin của các thuộc tính và số điểm của học sinh. Và các dòng có ý nghĩa tương đương nhau."
   ]
  },
  {
   "cell_type": "markdown",
   "id": "6c6ef03f",
   "metadata": {},
   "source": [
    "### Dữ liệu có các dòng bị lặp không? <a class=\"anchor\" id=\"c323\"></a>"
   ]
  },
  {
   "cell_type": "code",
   "execution_count": 4,
   "id": "06c40e12",
   "metadata": {},
   "outputs": [
    {
     "data": {
      "text/plain": [
       "False"
      ]
     },
     "execution_count": 4,
     "metadata": {},
     "output_type": "execute_result"
    }
   ],
   "source": [
    "have_duplicated_rows = df.duplicated().eq(True).all()\n",
    "have_duplicated_rows"
   ]
  },
  {
   "cell_type": "markdown",
   "id": "7d2be5b3",
   "metadata": {},
   "source": [
    "Dữ liệu không bị trùng lặp"
   ]
  },
  {
   "cell_type": "markdown",
   "id": "2cf1d518",
   "metadata": {},
   "source": [
    "### Mỗi cột có ý nghĩa gì? <a class=\"anchor\" id=\"c324\"></a>"
   ]
  },
  {
   "cell_type": "markdown",
   "id": "27c0586d",
   "metadata": {},
   "source": [
    "Sau đây là phần mô tả dữ liệu cho \"Students Performance in Exams\":\n",
    "- **gender**: Giới tính của học sinh\n",
    "- **race/ethnicity**: Chủng tộc/dân tộc của học sinh\n",
    "- **parental level of education**: Trình độ học vấn của cha mẹ\n",
    "- **lunch**: Mức độ bữa ăn của học sinh\n",
    "- **test preparation course**: Sự chuẩn bị cho bài kiểm tra\n",
    "- **math score**: Điểm môn toán của học sinh\n",
    "- **reading score**: Điểm môn đọc của học sinh\n",
    "- **writing score**: Điểm môn viết của học sinh"
   ]
  },
  {
   "cell_type": "markdown",
   "id": "f62c8d43",
   "metadata": {},
   "source": [
    "### Mỗi cột hiện đang có kiểu dữ liệu gì? Có cột nào có kiểu dữ liệu chưa phù hợp để có thể xử lý tiếp không? <a class=\"anchor\" id=\"c325\"></a>"
   ]
  },
  {
   "cell_type": "code",
   "execution_count": 5,
   "id": "d3ac866f",
   "metadata": {},
   "outputs": [
    {
     "name": "stdout",
     "output_type": "stream",
     "text": [
      "<class 'pandas.core.frame.DataFrame'>\n",
      "RangeIndex: 1000 entries, 0 to 999\n",
      "Data columns (total 8 columns):\n",
      " #   Column                       Non-Null Count  Dtype \n",
      "---  ------                       --------------  ----- \n",
      " 0   gender                       1000 non-null   object\n",
      " 1   race/ethnicity               1000 non-null   object\n",
      " 2   parental level of education  1000 non-null   object\n",
      " 3   lunch                        1000 non-null   object\n",
      " 4   test preparation course      1000 non-null   object\n",
      " 5   math score                   1000 non-null   int64 \n",
      " 6   reading score                1000 non-null   int64 \n",
      " 7   writing score                1000 non-null   int64 \n",
      "dtypes: int64(3), object(5)\n",
      "memory usage: 62.6+ KB\n"
     ]
    }
   ],
   "source": [
    "df.info()"
   ]
  },
  {
   "cell_type": "markdown",
   "id": "f03a76b5",
   "metadata": {},
   "source": [
    "Theo như quan sát dữ liệu trên thì có thể thấy:\n",
    "- Có 5 cột mang dữ liệu `object` gồm cột \"gender\", \"race/ethnicity\", \"parental level of education\", \"lunch\" và \"test preparation course\".\n",
    "- Và có 3 cột mang kiểu dữ liệu `int64` là các cột điểm của chúng ta gồm \"math score\", \"reading score\" và \"writing score\"\n",
    "\n",
    "Ở đây, có kiểu dữ liệu `object` khá bất thường ? Trong Pandas, kiểu dữ liệu object thường ám chỉ chuỗi, nhưng thật ra kiểu dữ liệu object có thể chứa một đối tượng bất kỳ trong Python (vì thật ra ở bên dưới kiểu dữ liệu object chứa địa chỉ). Nếu cột có dữ liệu là `object` thì kiểu dữ liệu của cột có thể khác nhau. Để có thể chắc chắn 5 cột dữ liệu `object` của chúng ta thuộc kiểu dữ liệu mong muốn là `str` thì chúng ta phải thực hiện một thao tác kiểm tra từng phần tử của cột đó, để có thể biết chắc rằng thực sự cột đó có thể chứa những kiểu dữ liệu nào khác hay không ?"
   ]
  },
  {
   "cell_type": "code",
   "execution_count": 6,
   "id": "a2c2542e",
   "metadata": {},
   "outputs": [],
   "source": [
    "def open_object_dtype(s):\n",
    "    dtypes = set()\n",
    "    \n",
    "    def get_type(cell):\n",
    "        if type(cell) is str:\n",
    "            dtypes.add(str)\n",
    "        elif type(cell) is float:\n",
    "            dtypes.add(float)\n",
    "    s.apply(get_type)\n",
    "    \n",
    "    return dtypes"
   ]
  },
  {
   "cell_type": "code",
   "execution_count": 7,
   "id": "c4c87ce5",
   "metadata": {},
   "outputs": [],
   "source": [
    "assert open_object_dtype(df['gender']) == {str}\n",
    "assert open_object_dtype(df['race/ethnicity']) == {str}\n",
    "assert open_object_dtype(df['parental level of education']) == {str}\n",
    "assert open_object_dtype(df['lunch']) == {str}\n",
    "assert open_object_dtype(df['test preparation course']) == {str}"
   ]
  },
  {
   "cell_type": "markdown",
   "id": "4ebb758f",
   "metadata": {},
   "source": [
    "Kết quả cuối cùng cho thấy các cột có kiểu dữ liệu đúng như mong đợi của chúng ta. Nên sẽ không cần xử lý về kiểu dữ liệu cho các cột nữa."
   ]
  },
  {
   "cell_type": "markdown",
   "id": "776093de",
   "metadata": {},
   "source": [
    "### Với mỗi cột có kiểu dữ liệu dạng số (numeric), các giá trị được phân bố như thế nào?\n",
    "<a class=\"anchor\" id=\"c326\"></a>"
   ]
  },
  {
   "cell_type": "markdown",
   "id": "60134ca0",
   "metadata": {},
   "source": [
    "### Dữ liệu thống kê cho thuộc tính dạng số"
   ]
  },
  {
   "cell_type": "code",
   "execution_count": 11,
   "id": "94d74d9d",
   "metadata": {},
   "outputs": [
    {
     "data": {
      "text/html": [
       "<div>\n",
       "<style scoped>\n",
       "    .dataframe tbody tr th:only-of-type {\n",
       "        vertical-align: middle;\n",
       "    }\n",
       "\n",
       "    .dataframe tbody tr th {\n",
       "        vertical-align: top;\n",
       "    }\n",
       "\n",
       "    .dataframe thead th {\n",
       "        text-align: right;\n",
       "    }\n",
       "</style>\n",
       "<table border=\"1\" class=\"dataframe\">\n",
       "  <thead>\n",
       "    <tr style=\"text-align: right;\">\n",
       "      <th></th>\n",
       "      <th>count</th>\n",
       "      <th>mean</th>\n",
       "      <th>std</th>\n",
       "      <th>min</th>\n",
       "      <th>25%</th>\n",
       "      <th>50%</th>\n",
       "      <th>75%</th>\n",
       "      <th>max</th>\n",
       "    </tr>\n",
       "  </thead>\n",
       "  <tbody>\n",
       "    <tr>\n",
       "      <th>math score</th>\n",
       "      <td>1000.0</td>\n",
       "      <td>66.089</td>\n",
       "      <td>15.163080</td>\n",
       "      <td>0.0</td>\n",
       "      <td>57.00</td>\n",
       "      <td>66.0</td>\n",
       "      <td>77.0</td>\n",
       "      <td>100.0</td>\n",
       "    </tr>\n",
       "    <tr>\n",
       "      <th>reading score</th>\n",
       "      <td>1000.0</td>\n",
       "      <td>69.169</td>\n",
       "      <td>14.600192</td>\n",
       "      <td>17.0</td>\n",
       "      <td>59.00</td>\n",
       "      <td>70.0</td>\n",
       "      <td>79.0</td>\n",
       "      <td>100.0</td>\n",
       "    </tr>\n",
       "    <tr>\n",
       "      <th>writing score</th>\n",
       "      <td>1000.0</td>\n",
       "      <td>68.054</td>\n",
       "      <td>15.195657</td>\n",
       "      <td>10.0</td>\n",
       "      <td>57.75</td>\n",
       "      <td>69.0</td>\n",
       "      <td>79.0</td>\n",
       "      <td>100.0</td>\n",
       "    </tr>\n",
       "  </tbody>\n",
       "</table>\n",
       "</div>"
      ],
      "text/plain": [
       "                count    mean        std   min    25%   50%   75%    max\n",
       "math score     1000.0  66.089  15.163080   0.0  57.00  66.0  77.0  100.0\n",
       "reading score  1000.0  69.169  14.600192  17.0  59.00  70.0  79.0  100.0\n",
       "writing score  1000.0  68.054  15.195657  10.0  57.75  69.0  79.0  100.0"
      ]
     },
     "execution_count": 11,
     "metadata": {},
     "output_type": "execute_result"
    }
   ],
   "source": [
    "df.describe().T"
   ]
  },
  {
   "cell_type": "markdown",
   "id": "f1282ebc",
   "metadata": {},
   "source": [
    "#### Một chút nhận xét về dữ liệu thống kê:\n",
    "\n",
    "Dữ liệu số bao gồm 3 cột `math score`, `reading score`, `writing score` đều có 1000 dòng.\n",
    "\n",
    "Đối với thuộc tính `math score`:\n",
    "- Trung bình rơi vào khoảng `66` điểm\n",
    "- Độ lệch chuẩn là `15.163`\n",
    "- Điểm thấp nhất của `môn toán ` là 0 điểm\n",
    "- Điểm cao nhất của `môn toán ` là 100 điểm\n",
    "- Thông số thống kê `Interquartile`: \n",
    "    - Có 25% học sinh thuộc loại trung bình yếu (< 57 điểm)\n",
    "    - Có 50% học sinh trên trung bình (trên 66 điểm)\n",
    "    - Và có 75% học sinh thuộc loại giỏi (trên 77 điểm)\n",
    "    \n",
    "Tương tự đối với thuộc tính `reading score`:\n",
    "- Trung bình rơi vào khoảng `69` điểm\n",
    "- Độ lệch chuẩn là `14.6`\n",
    "- Điểm thấp nhất của `môn đọc ` là 17 điểm\n",
    "- Điểm cao nhất của `môn đọc ` là 100 điểm\n",
    "- Thông số thống kê `Interquartile`: \n",
    "    - Có 25% học sinh thuộc loại trung bình yếu (< 59 điểm)\n",
    "    - Có 50% học sinh trên trung bình (trên 70 điểm)\n",
    "    - Và có 75% học sinh thuộc loại giỏi (trên 79 điểm)\n",
    "    \n",
    "Tương tự đối với thuộc tính `writing score`:\n",
    "- Trung bình rơi vào khoảng `68` điểm\n",
    "- Độ lệch chuẩn là `15.195`\n",
    "- Điểm thấp nhất của `môn viết ` là 10 điểm\n",
    "- Điểm cao nhất của `môn đọc ` là 100 điểm\n",
    "- Thông số thống kê `Interquartile`: \n",
    "    - Có 25% học sinh thuộc loại trung bình yếu (< 57.75 điểm)\n",
    "    - Có 50% học sinh trên trung bình (trên 69 điểm)\n",
    "    - Và có 75% học sinh thuộc loại giỏi (trên 79 điểm)\n",
    "    \n",
    "So sánh dữ liệu điểm của ba thuộc tính `math score`, `reading score`, `writing score`:\n",
    "- Cả ba môn đều có học sinh đạt số điểm tối đa là 100 (Quá giỏi :)) )\n",
    "- Cả ba môn đều có số học sinh khá/giỏi (Đạt số điểm > 75 điểm) khá tương tự nhau => Lớp này có thể có các học sinh học đồng đều tất cả ba môn không ? Maybe...\n",
    "- Dựa vào `giá trị trung bình` và `độ lệch chuẩn` ta có thể thấy sự dàn trải dữ liệu `(range)` của ba môn đều khá đều như nhau \n",
    "- `Điểm toán` là môn có học sinh 0 điểm (Trong lớp có học sinh yếu toán :>)\n",
    "- Chúng ta cần trực quan dữ liê"
   ]
  },
  {
   "cell_type": "markdown",
   "id": "a61c1524",
   "metadata": {},
   "source": [
    "#### Dữ liệu điểm của từng môn được phân bố như thế nào ?"
   ]
  },
  {
   "cell_type": "code",
   "execution_count": null,
   "id": "148f162e",
   "metadata": {},
   "outputs": [],
   "source": []
  },
  {
   "cell_type": "markdown",
   "id": "9c2bc605",
   "metadata": {},
   "source": [
    "### Với mỗi cột có kiểu dữ liệu dạng phân loại (categorical), các giá trị được phân bố như thế nào?\n",
    "<a class=\"anchor\" id=\"c327\"></a>"
   ]
  },
  {
   "cell_type": "markdown",
   "id": "16e51d30",
   "metadata": {},
   "source": [
    "### Đưa ra câu hỏi có ý nghĩa cần trả lời <a class=\"anchor\" id=\"c33\"></a>"
   ]
  },
  {
   "cell_type": "markdown",
   "id": "c3f6f7ee",
   "metadata": {},
   "source": [
    "## Nguồn tham khảo <a class=\"anchor\" id=\"c4\"></a>"
   ]
  }
 ],
 "metadata": {
  "kernelspec": {
   "display_name": "Python 3 (ipykernel)",
   "language": "python",
   "name": "python3"
  },
  "language_info": {
   "codemirror_mode": {
    "name": "ipython",
    "version": 3
   },
   "file_extension": ".py",
   "mimetype": "text/x-python",
   "name": "python",
   "nbconvert_exporter": "python",
   "pygments_lexer": "ipython3",
   "version": "3.9.7"
  }
 },
 "nbformat": 4,
 "nbformat_minor": 5
}
